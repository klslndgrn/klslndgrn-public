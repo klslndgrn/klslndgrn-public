{
 "cells": [
  {
   "cell_type": "markdown",
   "metadata": {},
   "source": [
    "## Exercise 09.1 (checking data validity)\n",
    "\n",
    "The Fibonacci series is valid only for $n \\ge 0$. Add to the Fibonacci function in this notebook a check that raises an exception if $n < 0$. Try some invalid data cases to check that an exception is raised.\n",
    "\n",
    "*Optional:* Use `pytest` to test that an exception *is* raised for some $n < 0$ cases."
   ]
  },
  {
   "cell_type": "code",
   "execution_count": 29,
   "metadata": {
    "deletable": false,
    "nbgrader": {
     "cell_type": "code",
     "checksum": "3bf4474f254eb94df13368bcbdfbbd25",
     "grade": false,
     "grade_id": "cell-982c3611466532a2",
     "locked": false,
     "schema_version": 3,
     "solution": true
    }
   },
   "outputs": [],
   "source": [
    "def f(n):\n",
    "    if n < 0:\n",
    "        raise ValueError\n",
    "        \n",
    "    if n <= 1:\n",
    "       return n\n",
    "    else:\n",
    "       return(f(n-1) + f(n-2))\n",
    "        \n",
    "# n = 'bla'\n",
    "# f(-1)"
   ]
  },
  {
   "cell_type": "code",
   "execution_count": 28,
   "metadata": {
    "deletable": false,
    "editable": false,
    "nbgrader": {
     "cell_type": "code",
     "checksum": "9f9ac524212d33e97978ac73892d6d39",
     "grade": true,
     "grade_id": "cell-9b97ea3e85d77f4a",
     "locked": true,
     "points": 0,
     "schema_version": 3,
     "solution": false
    }
   },
   "outputs": [],
   "source": [
    "# Perform some tests    \n",
    "assert f(0) == 0\n",
    "assert f(1) == 1\n",
    "assert f(2) == 1\n",
    "assert f(3) == 2\n",
    "assert f(10) == 55\n",
    "assert f(15) == 610\n",
    "\n",
    "# Check that ValueError is raised for n < 0\n",
    "import pytest\n",
    "with pytest.raises(ValueError):\n",
    "    f(-1)\n",
    "with pytest.raises(ValueError):\n",
    "    f(-2)"
   ]
  },
  {
   "cell_type": "markdown",
   "metadata": {
    "deletable": false,
    "editable": false,
    "nbgrader": {
     "cell_type": "markdown",
     "checksum": "e95262d50b5fedef7da21e1741ff513d",
     "grade": false,
     "grade_id": "cell-69c78c0ffc19db36",
     "locked": true,
     "schema_version": 3,
     "solution": false
    }
   },
   "source": [
    "## Exercise 09.2 (raising exceptions)\n",
    "\n",
    "Modify your program from the bisection exercise in Activity 04 to raise an error if the maximum number of iterations is exceeded. Reduce the maximum allowed iterations to test that an exception is raised.\n",
    "\n",
    "Add any other checks on the input data that you think are appropriate."
   ]
  },
  {
   "cell_type": "code",
   "execution_count": 30,
   "metadata": {
    "deletable": false,
    "nbgrader": {
     "cell_type": "code",
     "checksum": "54a2b2c493794b64ac8c709d3b554426",
     "grade": false,
     "grade_id": "cell-ca2c3ee62ad3b956",
     "locked": false,
     "schema_version": 3,
     "solution": true
    }
   },
   "outputs": [],
   "source": [
    "def my_f(x):\n",
    "    \"Evaluate polynomial function\"\n",
    "    return x**3 - 6*x**2 + 4*x + 12\n",
    "\n",
    "def compute_root(f, x0, x1, tol, max_it):\n",
    "    \n",
    "    \"Compute roots of a function using bisection\"\n",
    "    error = tol + 1.0\n",
    "\n",
    "    # Iterate until tolerance is met\n",
    "    it = 0\n",
    "    while error > tol:\n",
    "        \n",
    "        # Iteration counter\n",
    "        it += 1\n",
    "        \n",
    "        # Guard against an infinite loop\n",
    "        if it > max_it:\n",
    "            print(\"Oops, iteration count is very large. Breaking out of while loop.\")\n",
    "            raise RuntimeError\n",
    "        \n",
    "        # Compute midpoint\n",
    "        x_mid = (x0 + x1)/2\n",
    "\n",
    "        # Evaluate function at left end-point and at midpoint\n",
    "        f0 = x0**3 - 6*x0**2 + 4*x0 + 12\n",
    "        f = x_mid**3 - 6*x_mid**2 + 4*x_mid + 12\n",
    "        f_mid = f\n",
    "        \n",
    "        if f0 * f < 0:\n",
    "            x1 = x_mid\n",
    "        else:\n",
    "            x0 = x_mid\n",
    "        \n",
    "        # Computating error\n",
    "        error = abs(f)\n",
    "        \n",
    "        print(it, x_mid, error)\n",
    "     \n",
    "    return x_mid, f_mid, it"
   ]
  },
  {
   "cell_type": "code",
   "execution_count": 31,
   "metadata": {
    "deletable": false,
    "editable": false,
    "nbgrader": {
     "cell_type": "code",
     "checksum": "245f74804add47d7a569230c5677fb0a",
     "grade": true,
     "grade_id": "cell-f6cf91ed5dd1736b",
     "locked": true,
     "points": 0,
     "schema_version": 3,
     "solution": false
    }
   },
   "outputs": [
    {
     "name": "stdout",
     "output_type": "stream",
     "text": [
      "1 4.5 0.375\n",
      "2 5.25 12.328125\n",
      "3 4.875 4.763671875\n",
      "4 4.6875 1.910888671875\n",
      "5 4.59375 0.699554443359375\n",
      "6 4.546875 0.14548873901367188\n",
      "7 4.5234375 0.11891412734985352\n",
      "8 4.53515625 0.01224285364151001\n",
      "9 4.529296875 0.053596146404743195\n",
      "10 4.5322265625 0.020741849206387997\n",
      "11 4.53369140625 0.0042658079182729125\n",
      "12 4.534423828125 0.003984444148954935\n",
      "13 4.5340576171875 0.0001417014154867502\n",
      "14 4.53424072265625 0.0019211164656098845\n",
      "15 4.534149169921875 0.0008896438020826736\n",
      "16 4.5341033935546875 0.0003739552628445608\n",
      "17 4.534080505371094 0.0001161229410939768\n",
      "18 4.534069061279297 1.2790232830184323e-05\n",
      "19 4.534074783325195 5.166610522167048e-05\n",
      "20 4.534071922302246 1.9437873959304852e-05\n",
      "21 4.5340704917907715 3.3238050036743516e-06\n",
      "22 4.534069776535034 4.7332178070291775e-06\n",
      "23 4.534070134162903 7.047073751209609e-07\n",
      "1 4.5 0.375\n",
      "2 5.25 12.328125\n",
      "3 4.875 4.763671875\n",
      "4 4.6875 1.910888671875\n",
      "5 4.59375 0.699554443359375\n",
      "6 4.546875 0.14548873901367188\n",
      "7 4.5234375 0.11891412734985352\n",
      "8 4.53515625 0.01224285364151001\n",
      "9 4.529296875 0.053596146404743195\n",
      "10 4.5322265625 0.020741849206387997\n",
      "11 4.53369140625 0.0042658079182729125\n",
      "12 4.534423828125 0.003984444148954935\n",
      "13 4.5340576171875 0.0001417014154867502\n",
      "14 4.53424072265625 0.0019211164656098845\n",
      "15 4.534149169921875 0.0008896438020826736\n",
      "16 4.5341033935546875 0.0003739552628445608\n",
      "17 4.534080505371094 0.0001161229410939768\n",
      "18 4.534069061279297 1.2790232830184323e-05\n",
      "19 4.534074783325195 5.166610522167048e-05\n",
      "20 4.534071922302246 1.9437873959304852e-05\n",
      "Oops, iteration count is very large. Breaking out of while loop.\n"
     ]
    }
   ],
   "source": [
    "# Test with max_it = 30\n",
    "x, f, num_it = compute_root(my_f, x0=3, x1=6, tol=1.0e-6, max_it=30)\n",
    "\n",
    "# Test with max_it = 20\n",
    "with pytest.raises(RuntimeError):\n",
    "    x, f, num_it = compute_root(my_f, x0=3, x1=6, tol=1.0e-6, max_it=20)"
   ]
  }
 ],
 "metadata": {
  "kernelspec": {
   "display_name": "Python 3",
   "language": "python",
   "name": "python3"
  },
  "language_info": {
   "codemirror_mode": {
    "name": "ipython",
    "version": 3
   },
   "file_extension": ".py",
   "mimetype": "text/x-python",
   "name": "python",
   "nbconvert_exporter": "python",
   "pygments_lexer": "ipython3",
   "version": "3.9.7"
  }
 },
 "nbformat": 4,
 "nbformat_minor": 4
}
