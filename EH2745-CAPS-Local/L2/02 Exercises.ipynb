{
 "cells": [
  {
   "cell_type": "markdown",
   "metadata": {},
   "source": [
    "## Exercise 02.1 (if-else)\n",
    "\n",
    "Consider the following assessment criteria which map a score out of 100 to an \n",
    "assessment grade:\n",
    "\n",
    "| Grade            | Raw score  (/100)      |\n",
    "| ---------------- | ---------------------- |\n",
    "| Excellent        | $\\ge 82$               |\n",
    "| Very good        | $\\ge 76.5$ and $< 82$  |\n",
    "| Good             | $\\ge 66$ and $< 76.5$  |\n",
    "| Need improvement | $\\ge 45$ and $< 66$    |\n",
    "| Did you try?     | $< 45$                 |\n",
    "\n",
    "Write a program that, given an a score, prints the appropriate grade. Print an error message if the input score is greater than 100 or less than zero."
   ]
  },
  {
   "cell_type": "code",
   "execution_count": 6,
   "metadata": {
    "deletable": false,
    "nbgrader": {
     "cell_type": "code",
     "checksum": "a514c1218467051dab6b6e4fa054bc90",
     "grade": false,
     "grade_id": "cell-71121f470be22e4a",
     "locked": false,
     "schema_version": 3,
     "solution": true
    }
   },
   "outputs": [
    {
     "name": "stdout",
     "output_type": "stream",
     "text": [
      "Grade: Did you try?\n",
      "Grade: Need improvement\n",
      "Grade: Good\n",
      "Grade: Very Good\n",
      "Grade: Excellent\n",
      "Error: Score not in range\n",
      "Error: Score not in range\n"
     ]
    }
   ],
   "source": [
    "def PrintGrade(score):\n",
    "    if score > 100 or score < 0:\n",
    "        print('Error: Score not in range')\n",
    "    elif 82 <= score <= 100:\n",
    "        print('Grade: Excellent')\n",
    "    elif 76.5 <= score < 82:\n",
    "        print('Grade: Very Good')\n",
    "    elif 66 <= score < 76.5:\n",
    "        print('Grade: Good')\n",
    "    elif 45 <= score < 66:\n",
    "        print('Grade: Need improvement')\n",
    "    elif 0 <= score < 45:\n",
    "        print('Grade: Did you try?')\n",
    "        \n",
    "PrintGrade(30)\n",
    "PrintGrade(45)\n",
    "PrintGrade(66)\n",
    "PrintGrade(76.5)\n",
    "PrintGrade(82)\n",
    "PrintGrade(-1)\n",
    "PrintGrade(101)"
   ]
  },
  {
   "cell_type": "markdown",
   "metadata": {},
   "source": [
    "## Exercise 02.2 (bisection)\n",
    "\n",
    "Bisection is an iterative method for finding approximate roots of a function. Say we know that the function $f(x)$ has one root between $x_{0}$ and $x_{1}$ ($x_{0} < x_{1}$). We then:\n",
    "\n",
    "- Evaluate $f$ at the midpoint $x_{\\rm mid} = (x_0 + x_1)/2$, i.e. compute\n",
    "   $f_{\\rm mid} = f(x_{\\rm mid})$\n",
    "- Evaluate $f(x_0) \\cdot f(x_{\\rm mid})$\n",
    "\n",
    "  - If $f(x_0) \\cdot f(x_{\\rm mid}) < 0$: \n",
    "\n",
    "    $f$ must change sign somewhere between $x_0$ and $x_{\\rm mid}$, hence the root must lie between \n",
    "    $x_0$ and $x_{\\rm mid}$, so set $x_1 = x_{\\rm mid}$.\n",
    "   \n",
    "  - Else\n",
    "\n",
    "    $f$ must change sign somewhere between $x_{\\rm mid}$ and $x_1$, so set\n",
    "    $x_0 = x_{\\rm mid}$.\n",
    "\n",
    "The above steps can be repeated a specified number of times, or until $|f_{\\rm mid}|$\n",
    "is below a tolerance, with $x_{\\rm mid}$ being the approximate root.\n",
    "\n",
    "\n",
    "### Task\n",
    "\n",
    "The function\n",
    "\n",
    "$$\n",
    "f(x) = x^3 - 6x^2 + 4x + 12\n",
    "$$\n",
    "\n",
    "has one root somewhere between $x_0 = 3$ and $x_1 = 6$.\n",
    "\n",
    "1. Use the bisection method to find an approximate root $x_{r}$ using 15 iterations \n",
    "   (use a `for` loop).\n",
    "2. Use the bisection method to find an approximate root $x_{r}$ such that \n",
    "   $\\left| f(x_{r}) \\right| < 1 \\times 10^{-6}$ and report the number of iterations \n",
    "   required (use a `while` loop).\n",
    "\n",
    "Store the approximate root using the variable `x_mid`, and store $f(x_{\\rm mid})$ using the variable `f`.\n",
    "\n",
    "*Hint:* Use  `abs` to compute the absolute value of a number, e.g. `y = abs(x)` assigns the absolute value of `x` to `y`. "
   ]
  },
  {
   "cell_type": "markdown",
   "metadata": {},
   "source": [
    "#### (1) Using a `for` loop."
   ]
  },
  {
   "cell_type": "code",
   "execution_count": 7,
   "metadata": {
    "deletable": false,
    "nbgrader": {
     "cell_type": "code",
     "checksum": "ee3cd280d0ab20bacff2198885db439f",
     "grade": false,
     "grade_id": "cell-3a0d0a59613d6b3f",
     "locked": false,
     "schema_version": 3,
     "solution": true
    }
   },
   "outputs": [
    {
     "name": "stdout",
     "output_type": "stream",
     "text": [
      "0 4.5 -0.375\n",
      "1 5.25 12.328125\n",
      "2 4.875 4.763671875\n",
      "3 4.6875 1.910888671875\n",
      "4 4.59375 0.699554443359375\n",
      "5 4.546875 0.14548873901367188\n",
      "6 4.5234375 -0.11891412734985352\n",
      "7 4.53515625 0.01224285364151001\n",
      "8 4.529296875 -0.053596146404743195\n",
      "9 4.5322265625 -0.020741849206387997\n",
      "10 4.53369140625 -0.0042658079182729125\n",
      "11 4.534423828125 0.003984444148954935\n",
      "12 4.5340576171875 -0.0001417014154867502\n",
      "13 4.53424072265625 0.0019211164656098845\n",
      "14 4.534149169921875 0.0008896438020826736\n"
     ]
    }
   ],
   "source": [
    "# Initial end points\n",
    "x0 = 3.0\n",
    "x1 = 6.0\n",
    "\n",
    "# Use 15 iterations\n",
    "for n in range(15):\n",
    "    # Compute midpoint\n",
    "    x_mid = (x0 + x1)/2\n",
    "\n",
    "    # Evaluate function at left end-point and at midpoint\n",
    "    f0 = x0**3 - 6*x0**2 + 4*x0 + 12\n",
    "    f = x_mid**3 - 6*x_mid**2 + 4*x_mid + 12\n",
    "    \n",
    "    if f0 * f < 0:\n",
    "        x1 = x_mid\n",
    "    else:\n",
    "        x0 = x_mid \n",
    "\n",
    "    print(n, x_mid, f)"
   ]
  },
  {
   "cell_type": "code",
   "execution_count": 8,
   "metadata": {
    "deletable": false,
    "editable": false,
    "nbgrader": {
     "cell_type": "code",
     "checksum": "300a5759e0f5b564a00fa0e9acee6f68",
     "grade": true,
     "grade_id": "cell-421824bbd4e61fae",
     "locked": true,
     "points": 0,
     "schema_version": 3,
     "solution": false
    }
   },
   "outputs": [],
   "source": [
    "assert round(x_mid - 4.534149169921875, 10) == 0.0\n",
    "assert abs(f) < 0.0009"
   ]
  },
  {
   "cell_type": "markdown",
   "metadata": {},
   "source": [
    "#### (2) Using a `while` loop\n",
    "\n",
    "Use the variable `counter` for the iteration number. \n",
    "\n",
    "*Remember to guard against infinite loops.*"
   ]
  },
  {
   "cell_type": "code",
   "execution_count": 10,
   "metadata": {
    "deletable": false,
    "nbgrader": {
     "cell_type": "code",
     "checksum": "cc52d8a36b886950be06af5bfa258206",
     "grade": false,
     "grade_id": "cell-1747a3fb1dd1de48",
     "locked": false,
     "schema_version": 3,
     "solution": true
    }
   },
   "outputs": [
    {
     "name": "stdout",
     "output_type": "stream",
     "text": [
      "1 4.5 0.375\n",
      "2 5.25 12.328125\n",
      "3 4.875 4.763671875\n",
      "4 4.6875 1.910888671875\n",
      "5 4.59375 0.699554443359375\n",
      "6 4.546875 0.14548873901367188\n",
      "7 4.5234375 0.11891412734985352\n",
      "8 4.53515625 0.01224285364151001\n",
      "9 4.529296875 0.053596146404743195\n",
      "10 4.5322265625 0.020741849206387997\n",
      "11 4.53369140625 0.0042658079182729125\n",
      "12 4.534423828125 0.003984444148954935\n",
      "13 4.5340576171875 0.0001417014154867502\n",
      "14 4.53424072265625 0.0019211164656098845\n",
      "15 4.534149169921875 0.0008896438020826736\n",
      "16 4.5341033935546875 0.0003739552628445608\n",
      "17 4.534080505371094 0.0001161229410939768\n",
      "18 4.534069061279297 1.2790232830184323e-05\n",
      "19 4.534074783325195 5.166610522167048e-05\n",
      "20 4.534071922302246 1.9437873959304852e-05\n",
      "21 4.5340704917907715 3.3238050036743516e-06\n",
      "22 4.534069776535034 4.7332178070291775e-06\n",
      "23 4.534070134162903 7.047073751209609e-07\n"
     ]
    }
   ],
   "source": [
    "# Initial end points\n",
    "x0 = 3.0\n",
    "x1 = 6.0\n",
    "\n",
    "tol = 1.0e-6\n",
    "error = tol + 1.0\n",
    "\n",
    "# Iterate until tolerance is met\n",
    "maxcount = 30\n",
    "counter = 0\n",
    "while error > tol:\n",
    "    \n",
    "    # Iteration counter\n",
    "    counter += 1\n",
    "    \n",
    "    # Guard against an infinite loop\n",
    "    if counter > maxcount:\n",
    "        print(\"Oops, iteration count is very large. Breaking out of while loop.\")\n",
    "        break\n",
    "    \n",
    "    # Compute midpoint\n",
    "    x_mid = (x0 + x1)/2\n",
    "\n",
    "    # Evaluate function at left end-point and at midpoint\n",
    "    f0 = x0**3 - 6*x0**2 + 4*x0 + 12\n",
    "    f = x_mid**3 - 6*x_mid**2 + 4*x_mid + 12\n",
    "    \n",
    "    if f0 * f < 0:\n",
    "        x1 = x_mid\n",
    "    else:\n",
    "        x0 = x_mid\n",
    "    \n",
    "    # Computating error\n",
    "    error = abs(f)\n",
    "    \n",
    "    print(counter, x_mid, error)"
   ]
  },
  {
   "cell_type": "code",
   "execution_count": 11,
   "metadata": {
    "deletable": false,
    "editable": false,
    "nbgrader": {
     "cell_type": "code",
     "checksum": "5604f410d2134838760ac580a9b40f73",
     "grade": true,
     "grade_id": "cell-ddff32f44df88388",
     "locked": true,
     "points": 0,
     "schema_version": 3,
     "solution": false
    }
   },
   "outputs": [],
   "source": [
    "assert counter == 23\n",
    "assert abs(f) < 1.0e-6"
   ]
  },
  {
   "cell_type": "markdown",
   "metadata": {},
   "source": [
    "## Exercise 02.3 (series expansion)\n",
    "\n",
    "The power series expansion for the sine function is: \n",
    "\n",
    "$$\n",
    "\\sin(x) = \\sum_{n = 0}^{\\infty} (-1)^n \\frac{x^{2n +1}}{(2n+1)!}\n",
    "$$\n",
    "\n",
    "(See mathematics data book for a less compact version; this compact version is preferred here as it is simpler to program.)\n",
    "\n",
    "1. Using a `for` statement, approximate $\\sin(3\\pi/2)$ using 15 terms in the series expansion and report the absolute error.\n",
    "\n",
    "1. Using a `while` statement, compute how many terms in the series are required to approximate $\\sin(3\\pi/2)$ to within $1 \\times 10^{-8}$. \n",
    "\n",
    "Store the absolute value of the error in the variable `error`.\n",
    "\n",
    "*Note:* Calculators and computers use iterative or series expansions to compute trigonometric functions, similar to the one above (although they use more efficient formulations than the above series).\n",
    "\n",
    "### Hints\n",
    "\n",
    "To compute the factorial and to get a good approximation of $\\pi$, use the Python `math` module:\n",
    "```python\n",
    "import math\n",
    "nfact = math.factorial(10)\n",
    "pi = math.pi\n",
    "```\n",
    "You only need '`import math`' once at the top of your program. Standard modules, like `math`, will be explained in a later. If you want to test for angles for which sine is not simple, you can use \n",
    "```python\n",
    "a = 1.3\n",
    "s = math.sin(a)\n",
    "```    \n",
    "to get an accurate computation of sine to check the error."
   ]
  },
  {
   "cell_type": "markdown",
   "metadata": {},
   "source": [
    "#### (1) Using a `for` loop"
   ]
  },
  {
   "cell_type": "code",
   "execution_count": 12,
   "metadata": {
    "deletable": false,
    "nbgrader": {
     "cell_type": "code",
     "checksum": "105cfce8eabbd37a7afaee8203d6bd3b",
     "grade": false,
     "grade_id": "cell-d6df4b428f969a5d",
     "locked": false,
     "schema_version": 3,
     "solution": true
    }
   },
   "outputs": [
    {
     "name": "stdout",
     "output_type": "stream",
     "text": [
      "0 -1.0 4.71238898038469 5.71238898038469\n",
      "1 -1.0 -12.728641652283956 11.728641652283956\n",
      "2 -1.0 6.636666525534631 7.636666525534631\n",
      "3 -1.0 -3.602329768407337 2.602329768407337\n",
      "4 -1.0 -0.444365928237735 0.555634071762265\n",
      "5 -1.0 -1.0818902108258501 0.08189021082585013\n",
      "6 -1.0 -0.9911385887311435 0.008861411268856534\n",
      "7 -1.0 -1.0007351881114854 0.0007351881114854297\n",
      "8 -1.0 -0.9999517030422599 4.829695774011267e-05\n",
      "9 -1.0 -1.000002575987572 2.5759875719177927e-06\n",
      "10 -1.0 -0.9999998861884025 1.1381159747969605e-07\n",
      "11 -1.0 -1.0000000042344912 4.234491202126378e-09\n",
      "12 -1.0 -0.9999999998654855 1.345145106412815e-10\n",
      "13 -1.0 -1.0000000000036917 3.6917136014835705e-12\n",
      "14 -1.0 -0.9999999999999121 8.79296635503124e-14\n",
      "The error is: 8.79296635503124e-14\n"
     ]
    }
   ],
   "source": [
    "# Import the math module to access math.sin and math.factorial\n",
    "import math\n",
    "\n",
    "# Value at which to approximate sine\n",
    "x = 1.5*math.pi\n",
    "real_sin = math.sin(x)\n",
    "\n",
    "# Initialise approximation of sine\n",
    "approx_sin = 0.0\n",
    "error = abs(real_sin - approx_sin)\n",
    "\n",
    "for n in range(15):\n",
    "    \n",
    "    num = (x**(2*n+1))\n",
    "    den = math.factorial((2*n+1))\n",
    "    \n",
    "    approx_sin += (-1)**n * num/den\n",
    "    \n",
    "    error = abs(real_sin - approx_sin)\n",
    "    \n",
    "    print(n, real_sin, approx_sin, error)\n",
    "    \n",
    "print(f\"The error is: {error}\")"
   ]
  },
  {
   "cell_type": "code",
   "execution_count": 13,
   "metadata": {
    "deletable": false,
    "editable": false,
    "nbgrader": {
     "cell_type": "code",
     "checksum": "e96bb82c27a0c914a648526edbe13d26",
     "grade": true,
     "grade_id": "cell-8b269b717e92414d",
     "locked": true,
     "points": 0,
     "schema_version": 3,
     "solution": false
    }
   },
   "outputs": [],
   "source": [
    "assert error < 1.0e-12"
   ]
  },
  {
   "cell_type": "markdown",
   "metadata": {},
   "source": [
    "#### (2) Using a `while` loop\n",
    "\n",
    "*Remember to guard against infinite loops.*"
   ]
  },
  {
   "cell_type": "code",
   "execution_count": 14,
   "metadata": {
    "deletable": false,
    "nbgrader": {
     "cell_type": "code",
     "checksum": "f7c4320acbc1a64d9d8423de7111714b",
     "grade": false,
     "grade_id": "cell-03df25d83df3674e",
     "locked": false,
     "schema_version": 3,
     "solution": true
    }
   },
   "outputs": [
    {
     "name": "stdout",
     "output_type": "stream",
     "text": [
      "1 -1.0 4.71238898038469 5.71238898038469\n",
      "2 -1.0 -12.728641652283956 11.728641652283956\n",
      "3 -1.0 6.636666525534631 7.636666525534631\n",
      "4 -1.0 -3.602329768407337 2.602329768407337\n",
      "5 -1.0 -0.444365928237735 0.555634071762265\n",
      "6 -1.0 -1.0818902108258501 0.08189021082585013\n",
      "7 -1.0 -0.9911385887311435 0.008861411268856534\n",
      "8 -1.0 -1.0007351881114854 0.0007351881114854297\n",
      "9 -1.0 -0.9999517030422599 4.829695774011267e-05\n",
      "10 -1.0 -1.000002575987572 2.5759875719177927e-06\n",
      "11 -1.0 -0.9999998861884025 1.1381159747969605e-07\n",
      "12 -1.0 -1.0000000042344912 4.234491202126378e-09\n",
      "The error is:\n",
      "4.234491202126378e-09\n",
      "Number of terms in series:\n",
      "12\n"
     ]
    }
   ],
   "source": [
    "# Import the math module to access math.sin and math.factorial\n",
    "import math\n",
    "\n",
    "# Value at which to approximate sine\n",
    "x = 1.5*math.pi\n",
    "\n",
    "# Tolerance and initial error (this just needs to be larger than tol)\n",
    "tol = 1.0e-8\n",
    "error = tol + 1.0\n",
    "\n",
    "# Intialise approximation of sine\n",
    "approx_sin = 0.0\n",
    "\n",
    "# Initialise counter\n",
    "n = 0\n",
    "maxiter = 30\n",
    "\n",
    "# Loop until error satisfies tolerance, with a check to avoid \n",
    "# an infinite loop\n",
    "while error > tol and n < 30:\n",
    "    \n",
    "    num = (x**(2*n+1))\n",
    "    den = math.factorial((2*n+1))\n",
    "    \n",
    "    approx_sin += (-1)**n * num/den\n",
    "    \n",
    "    error = abs(real_sin - approx_sin)\n",
    "    \n",
    "    # Increment counter\n",
    "    n += 1\n",
    "    \n",
    "    print(n, real_sin, approx_sin, error)\n",
    "    \n",
    "    \n",
    "print(\"The error is:\")\n",
    "print(error)\n",
    "\n",
    "print(\"Number of terms in series:\")\n",
    "print(n)"
   ]
  },
  {
   "cell_type": "code",
   "execution_count": 15,
   "metadata": {
    "deletable": false,
    "editable": false,
    "nbgrader": {
     "cell_type": "code",
     "checksum": "7e9cf956faf5c223affc2cc9a50d4cf5",
     "grade": true,
     "grade_id": "cell-03df25d83df3674dfwe",
     "locked": true,
     "points": 0,
     "schema_version": 3,
     "solution": false
    }
   },
   "outputs": [],
   "source": [
    "assert error <= 1.0e-8"
   ]
  }
 ],
 "metadata": {
  "kernelspec": {
   "display_name": "Python 3",
   "language": "python",
   "name": "python3"
  },
  "language_info": {
   "codemirror_mode": {
    "name": "ipython",
    "version": 3
   },
   "file_extension": ".py",
   "mimetype": "text/x-python",
   "name": "python",
   "nbconvert_exporter": "python",
   "pygments_lexer": "ipython3",
   "version": "3.9.7"
  }
 },
 "nbformat": 4,
 "nbformat_minor": 4
}
