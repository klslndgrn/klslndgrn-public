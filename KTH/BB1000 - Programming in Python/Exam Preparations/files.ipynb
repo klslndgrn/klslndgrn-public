{
 "cells": [
  {
   "cell_type": "markdown",
   "metadata": {},
   "source": [
    "Before you turn this problem in, make sure everything runs as expected. First, **restart the kernel** (in the menubar, select Kernel$\\rightarrow$Restart) and then **run all cells** (in the menubar, select Cell$\\rightarrow$Run All)."
   ]
  },
  {
   "cell_type": "markdown",
   "metadata": {},
   "source": [
    "---"
   ]
  },
  {
   "cell_type": "markdown",
   "metadata": {},
   "source": [
    "# File handling\n"
   ]
  },
  {
   "cell_type": "markdown",
   "metadata": {},
   "source": [
    "## Creating our reference file\n",
    "\n",
    "In our initial example we create a small reference file by executing the following cell. The so-called cell-magic command `%%file` takes its first argument as a filename and writes the remaining content of the cell to file\n",
    "\n",
    "[More about cell magic](https://ipython.readthedocs.io/en/stable/interactive/magics.html)"
   ]
  },
  {
   "cell_type": "code",
   "execution_count": null,
   "metadata": {
    "deletable": false,
    "editable": false,
    "nbgrader": {
     "cell_type": "code",
     "checksum": "615b90415657c85c16f8b83a64e0e690",
     "grade": false,
     "grade_id": "cell-846fa717ec4901bd",
     "locked": true,
     "schema_version": 3,
     "solution": false
    }
   },
   "outputs": [],
   "source": [
    "%%file composers.txt\n",
    "dufay\n",
    "ockeghem\n",
    "josquin\n",
    "willaert\n",
    "orlando\n",
    "sweelinck"
   ]
  },
  {
   "cell_type": "markdown",
   "metadata": {},
   "source": [
    "## Reading\n",
    "\n",
    "In the first exercise we recall different forms of reading text files. These are single-line answers that output some text. \n",
    "\n"
   ]
  },
  {
   "cell_type": "markdown",
   "metadata": {},
   "source": [
    "#### Exercise 1\n",
    "What single line is used to return the file content as a single string? Not that the string will contain the end-of-line (newline) character `\\n`"
   ]
  },
  {
   "cell_type": "code",
   "execution_count": null,
   "metadata": {
    "deletable": false,
    "nbgrader": {
     "cell_type": "code",
     "checksum": "31e09e8cffc968e483a63da99663d648",
     "grade": false,
     "grade_id": "cell-619ee4026f28565c",
     "locked": false,
     "schema_version": 3,
     "solution": true
    }
   },
   "outputs": [],
   "source": [
    "def text_to_string():\n",
    "    data = open(\"composers.txt\").read() # This single line is used to reutn the file content as a single string.\n",
    "    # print(data)\n",
    "    return(data)\n",
    "text_to_string()"
   ]
  },
  {
   "cell_type": "markdown",
   "metadata": {},
   "source": [
    "An underscore `_` refers to the value of the previoius command. In the test cell we are thus checking the return  of the last line in the previous cell"
   ]
  },
  {
   "cell_type": "code",
   "execution_count": null,
   "metadata": {
    "deletable": false,
    "editable": false,
    "nbgrader": {
     "cell_type": "code",
     "checksum": "f03fd1f36b6b448c128c790484d0aef5",
     "grade": true,
     "grade_id": "cell-e16f081e726162ce",
     "locked": true,
     "points": 1,
     "schema_version": 3,
     "solution": false
    }
   },
   "outputs": [],
   "source": [
    "result = _\n",
    "expected = 'dufay\\nockeghem\\njosquin\\nwillaert\\norlando\\nsweelinck\\n'\n",
    "assert result == expected, f'{result=} != {expected}'"
   ]
  },
  {
   "cell_type": "markdown",
   "metadata": {},
   "source": [
    "#### Exercise 2\n",
    "What single line is used to return the file content as a Python list of strings. "
   ]
  },
  {
   "cell_type": "code",
   "execution_count": null,
   "metadata": {
    "deletable": false,
    "nbgrader": {
     "cell_type": "code",
     "checksum": "1c824f34c50404d900d543baed236793",
     "grade": false,
     "grade_id": "cell-b8288e222d0343fb",
     "locked": false,
     "schema_version": 3,
     "solution": true
    }
   },
   "outputs": [],
   "source": [
    "def text_to_list():\n",
    "    data = open(\"composers.txt\").readlines() # This single line is used to reutn the file content as a list.\n",
    "    # print(data)\n",
    "    return(data)\n",
    "text_to_list()"
   ]
  },
  {
   "cell_type": "code",
   "execution_count": null,
   "metadata": {
    "deletable": false,
    "editable": false,
    "nbgrader": {
     "cell_type": "code",
     "checksum": "cf8a4af600c4f58154f9bb4b94d03a1c",
     "grade": true,
     "grade_id": "cell-3f4d59f2de6a1c5e",
     "locked": true,
     "points": 1,
     "schema_version": 3,
     "solution": false
    }
   },
   "outputs": [],
   "source": [
    "result = _\n",
    "expected = ['dufay\\n', 'ockeghem\\n', 'josquin\\n',  'willaert\\n',  'orlando\\n',  'sweelinck\\n']\n",
    "assert result == expected, f'{result=} != {expected}'"
   ]
  },
  {
   "cell_type": "markdown",
   "metadata": {},
   "source": [
    "#### Exercise 3\n",
    "This function will return the lines of the file without the 'end-of-line' characters. Use the [`strip`](https://docs.python.org/3/library/stdtypes.html#str.strip) method"
   ]
  },
  {
   "cell_type": "code",
   "execution_count": null,
   "metadata": {
    "deletable": false,
    "nbgrader": {
     "cell_type": "code",
     "checksum": "6074dd8690cd06a3a1c48f6115964d31",
     "grade": false,
     "grade_id": "cell-a53c2938a84d15db",
     "locked": false,
     "schema_version": 3,
     "solution": true
    }
   },
   "outputs": [],
   "source": [
    "def get_list_of_lines_without_eol_character(filename):\n",
    "    lines = []\n",
    "    data = open(\"composers.txt\").readlines()\n",
    "    for i in data:\n",
    "        lines.append(i.strip('\\n'))\n",
    "    return lines\n",
    " \n",
    "get_list_of_lines_without_eol_character('composers.txt')"
   ]
  },
  {
   "cell_type": "code",
   "execution_count": null,
   "metadata": {
    "deletable": false,
    "editable": false,
    "nbgrader": {
     "cell_type": "code",
     "checksum": "93de2d8741667a8b8d8c28ab07112d41",
     "grade": true,
     "grade_id": "cell-de85c7e2aeabc67f",
     "locked": true,
     "points": 1,
     "schema_version": 3,
     "solution": false
    }
   },
   "outputs": [],
   "source": [
    "result =  get_list_of_lines_without_eol_character('composers.txt')\n",
    "expected = ['dufay', 'ockeghem', 'josquin', 'willaert', 'orlando', 'sweelinck']\n",
    "assert result == expected, f'{result=} != {expected}'"
   ]
  },
  {
   "cell_type": "markdown",
   "metadata": {},
   "source": [
    "## Reading numeric data\n",
    "All reading/writing is done with text objects, i.e. reading a '7' will be text string with a single character rather than a numeric value. \n",
    "\n",
    "To get numbers from file intended for computation we have to do a type conversion (typically `int` or `float`)\n",
    "\n",
    "Consider a file with one number per line. \n",
    "\n",
    "    1\n",
    "    2\n",
    "    3\n",
    "    4\n"
   ]
  },
  {
   "cell_type": "markdown",
   "metadata": {},
   "source": [
    "### Exercise 4\n",
    "\n",
    "Write a function that takes a file name as input and returns the sum of the numbers in the file, assuming one number per line"
   ]
  },
  {
   "cell_type": "code",
   "execution_count": null,
   "metadata": {
    "deletable": false,
    "editable": false,
    "nbgrader": {
     "cell_type": "code",
     "checksum": "89a414bebe16c2b8da29d6c18a927ed2",
     "grade": false,
     "grade_id": "cell-762fc0f0c9060c95",
     "locked": true,
     "schema_version": 3,
     "solution": false
    }
   },
   "outputs": [],
   "source": [
    "%%file numbers1.txt\n",
    "1\n",
    "2\n",
    "3\n",
    "4\n",
    "5"
   ]
  },
  {
   "cell_type": "code",
   "execution_count": null,
   "metadata": {
    "deletable": false,
    "nbgrader": {
     "cell_type": "code",
     "checksum": "af18459944dca5660f2b09fcba963930",
     "grade": false,
     "grade_id": "cell-e61d832d811f3cc4",
     "locked": false,
     "schema_version": 3,
     "solution": true
    }
   },
   "outputs": [],
   "source": [
    "def sum_numbers_in_file(filename):\n",
    "    number_sum = 0\n",
    "    lines = []\n",
    "    data = open(filename).readlines()\n",
    "    for i in data:\n",
    "        lines.append(i.strip('\\n'))\n",
    "    for i in lines:\n",
    "        number_sum += int(i)\n",
    "    return number_sum \n",
    " \n",
    "sum_numbers_in_file('numbers1.txt')"
   ]
  },
  {
   "cell_type": "code",
   "execution_count": null,
   "metadata": {
    "deletable": false,
    "editable": false,
    "nbgrader": {
     "cell_type": "code",
     "checksum": "a6dd0bfc462e968f2806abd747748fb0",
     "grade": true,
     "grade_id": "cell-cedf19ef9aeb39f9",
     "locked": true,
     "points": 1,
     "schema_version": 3,
     "solution": false
    }
   },
   "outputs": [],
   "source": [
    "result = sum_numbers_in_file('numbers1.txt')\n",
    "expected = 15\n",
    "assert result == expected, f'{result=} != {expected}'"
   ]
  },
  {
   "cell_type": "markdown",
   "metadata": {
    "deletable": false,
    "editable": false,
    "nbgrader": {
     "cell_type": "markdown",
     "checksum": "6aabeac648fde15d2121b0d2be2fb92d",
     "grade": false,
     "grade_id": "cell-d058b86d284d057d",
     "locked": true,
     "schema_version": 3,
     "solution": false
    }
   },
   "source": [
    "### Exercise 5\n",
    "\n",
    "It was realized that some files have more numbers on several lines such that for a file like\n",
    "\n",
    "    1 2 3 4 5\n",
    "    6 7 8 9 10\n",
    "    \n",
    "could not be handled by this function but we would get an error like\n",
    "\n",
    "    E           ValueError: invalid literal for int() with base 10: '1 2 3 4 5\\n'\n",
    "    \n",
    "\n",
    "In this exercise generalize the function above by copying here. Use the `split` method to split a line into words.\n",
    "Example\n",
    "\n",
    "    >>> '1 2 3 4 5\\n'.split()\n",
    "    ['1', '2', '3', '4', '5']\n",
    "   "
   ]
  },
  {
   "cell_type": "code",
   "execution_count": null,
   "metadata": {
    "deletable": false,
    "editable": false,
    "nbgrader": {
     "cell_type": "code",
     "checksum": "e0ee07910b25086d9bd08c31a5859c12",
     "grade": false,
     "grade_id": "cell-24514acaed652220",
     "locked": true,
     "schema_version": 3,
     "solution": false
    }
   },
   "outputs": [],
   "source": [
    "%%file numbers2.txt\n",
    "1 2 3 4 5\n",
    "6 7 8 9 10"
   ]
  },
  {
   "cell_type": "code",
   "execution_count": null,
   "metadata": {},
   "outputs": [],
   "source": [
    "# You may uncomment this line and try\n",
    "# sum_numbers_in_file('numbers2.txt')\n",
    "\n",
    "# I VERIFIED THAT IT IS NOT WORKING..."
   ]
  },
  {
   "cell_type": "markdown",
   "metadata": {},
   "source": [
    "In this exercise generalize the function from exercise 4. Use the `split` method to split a line into words."
   ]
  },
  {
   "cell_type": "code",
   "execution_count": null,
   "metadata": {
    "deletable": false,
    "nbgrader": {
     "cell_type": "code",
     "checksum": "0bca2a70a03a2ff2abfe62395de2a052",
     "grade": false,
     "grade_id": "cell-e61d832d811f3cc5",
     "locked": false,
     "schema_version": 3,
     "solution": true
    }
   },
   "outputs": [],
   "source": [
    "def sum_numbers_in_file2(filename):\n",
    "    number_sum = 0\n",
    "    lines = []\n",
    "    data = open(filename).readlines()\n",
    "    for i in data:\n",
    "        lines.append(i.strip('\\n'))\n",
    "    lines = ' '.join(lines).split(' ')\n",
    "    for i in lines:\n",
    "        number_sum += int(i)\n",
    "    return number_sum \n",
    "   \n",
    "sum_numbers_in_file2('numbers2.txt')"
   ]
  },
  {
   "cell_type": "code",
   "execution_count": null,
   "metadata": {
    "deletable": false,
    "editable": false,
    "nbgrader": {
     "cell_type": "code",
     "checksum": "8819e6f6f8a3d29ba4f4a68db64074a6",
     "grade": true,
     "grade_id": "cell-b4d65b9e6d0f1e01",
     "locked": true,
     "points": 1,
     "schema_version": 3,
     "solution": false
    }
   },
   "outputs": [],
   "source": [
    "result1 = sum_numbers_in_file2('numbers1.txt')\n",
    "expected1 = 15\n",
    "assert result1 == expected1, f'{result1=} != {expected1}'\n",
    "\n",
    "result2 = sum_numbers_in_file2('numbers2.txt')\n",
    "expected2 = 55\n",
    "assert result2 == expected2, f'{result2} != {expected2}'"
   ]
  },
  {
   "cell_type": "markdown",
   "metadata": {},
   "source": [
    "## Writing files\n",
    "\n",
    "When we call the builtin function `open` with a filename as a single argument the default behaviour is to look for an existing file for reading. If it does not exist the system prints  a `FileNotFoundError` and a message like\n",
    "\n",
    "    open('no_such_file')\n",
    "    ---------------------------------------------------------------------------\n",
    "    FileNotFoundError                         Traceback (most recent call last)\n",
    "    <ipython-input-15-b99a18bdaf59> in <module>()\n",
    "    ----> 1 open('no_such_file')\n",
    "\n",
    "    FileNotFoundError: [Errno 2] No such file or directory: 'no_such_file'\n",
    "    \n",
    " \n",
    " \n",
    "To open a new file to be written we have to supply an additional parameter, `w` for writing.\n",
    "\n",
    "    open('new_file', 'w')\n",
    " \n",
    "The `open` function returns a file object which has methods for reading (`read`, `readlines`) and writing (`write`)\n",
    "\n",
    "You can often look up the documentation of a function with"
   ]
  },
  {
   "cell_type": "code",
   "execution_count": null,
   "metadata": {},
   "outputs": [],
   "source": [
    "# help(open)"
   ]
  },
  {
   "cell_type": "markdown",
   "metadata": {},
   "source": [
    "### Exercise 6\n",
    "\n",
    "With the content in the multi-line string write down code that writes the following content to a file of the form first_last.txt  and with capitalized names (First, Last) in the text.\n",
    "\n",
    "Hint: consider string methods\n",
    "\n",
    "    >>> 'JOHN'.lower()\n",
    "    john\n",
    "    >>> 'JOHN'.capitalize()\n",
    "    John\n",
    "    \n",
    "    "
   ]
  },
  {
   "cell_type": "code",
   "execution_count": null,
   "metadata": {
    "deletable": false,
    "nbgrader": {
     "cell_type": "code",
     "checksum": "97d2c0b1301c0d39dfb653ed20c368ef",
     "grade": false,
     "grade_id": "cell-9e5cf46774b3a243",
     "locked": false,
     "schema_version": 3,
     "solution": true
    }
   },
   "outputs": [],
   "source": [
    "def try_out_names(first, last):\n",
    "    content = f\"\"\"\n",
    "    'Tis but thy name that is my enemy;\n",
    "    Thou art thyself, though not a {last}.\n",
    "    What's {last}? It is nor hand, nor foot,\n",
    "    Nor arm, nor face, nor any other part\n",
    "    Belonging to a man. O, be some other name!\n",
    "    What's in a name? That which we call a rose\n",
    "    By any other word would smell as sweet;\n",
    "    So {first} would, were he not {first} call'd,\n",
    "    Retain that dear perfection which he owes\n",
    "    Without that title. {first}, doff thy name,\n",
    "    And for that name which is no part of thee\n",
    "    Take all myself.\n",
    "    \"\"\"\n",
    "    return content\n",
    "\n",
    "def write_to_file(first, last):\n",
    "    \"\"\"\n",
    "    Writes to file first_last.txt balcony scene with names\n",
    "    Filename will be in lower case\n",
    "    Names in text will have initial letter capitalized\n",
    "    \"\"\"\n",
    "    name = '_'.join([first,last]).lower()\n",
    "    name = '.'.join([name,'txt'])\n",
    "    content = try_out_names(first.capitalize(),last.capitalize())\n",
    "\n",
    "    file = open(name,'w').write(content)\n",
    "    return(file)\n",
    "    "
   ]
  },
  {
   "cell_type": "code",
   "execution_count": null,
   "metadata": {
    "deletable": false,
    "editable": false,
    "nbgrader": {
     "cell_type": "code",
     "checksum": "3ec5eabef7ee33441b9deed6e418e8b2",
     "grade": true,
     "grade_id": "cell-afe447054334d72a",
     "locked": true,
     "points": 1,
     "schema_version": 3,
     "solution": false
    }
   },
   "outputs": [],
   "source": [
    "# Now write to new file and check content\n",
    "write_to_file('RONALD', 'SMITH')\n",
    "result = open('ronald_smith.txt').read()\n",
    "expected= \"\"\"\n",
    "    'Tis but thy name that is my enemy;\n",
    "    Thou art thyself, though not a Smith.\n",
    "    What's Smith? It is nor hand, nor foot,\n",
    "    Nor arm, nor face, nor any other part\n",
    "    Belonging to a man. O, be some other name!\n",
    "    What's in a name? That which we call a rose\n",
    "    By any other word would smell as sweet;\n",
    "    So Ronald would, were he not Ronald call'd,\n",
    "    Retain that dear perfection which he owes\n",
    "    Without that title. Ronald, doff thy name,\n",
    "    And for that name which is no part of thee\n",
    "    Take all myself.\n",
    "    \"\"\"\n",
    "assert result == expected, f'{result} != {expected}'\n",
    "\n",
    "write_to_file('ROMEO', 'MONTAGUE')\n",
    "result = open('romeo_montague.txt').read()\n",
    "expected = \"\"\"\n",
    "    'Tis but thy name that is my enemy;\n",
    "    Thou art thyself, though not a Montague.\n",
    "    What's Montague? It is nor hand, nor foot,\n",
    "    Nor arm, nor face, nor any other part\n",
    "    Belonging to a man. O, be some other name!\n",
    "    What's in a name? That which we call a rose\n",
    "    By any other word would smell as sweet;\n",
    "    So Romeo would, were he not Romeo call'd,\n",
    "    Retain that dear perfection which he owes\n",
    "    Without that title. Romeo, doff thy name,\n",
    "    And for that name which is no part of thee\n",
    "    Take all myself.\n",
    "    \"\"\"\n",
    "assert result == expected, f'{result} != {expected}'"
   ]
  },
  {
   "cell_type": "markdown",
   "metadata": {},
   "source": [
    "### Exercise 7\n",
    "\n",
    "Writing numeric data to a file implies first converting to a string. The built-in function print does that. Look up the documentation on print how you can use it for writing to a file "
   ]
  },
  {
   "cell_type": "code",
   "execution_count": null,
   "metadata": {},
   "outputs": [],
   "source": [
    "# help(print)"
   ]
  },
  {
   "cell_type": "code",
   "execution_count": null,
   "metadata": {
    "deletable": false,
    "nbgrader": {
     "cell_type": "code",
     "checksum": "a392468aab24c1237e44bf1ab167e642",
     "grade": false,
     "grade_id": "cell-df4516027c70782a",
     "locked": false,
     "schema_version": 3,
     "solution": true
    }
   },
   "outputs": [],
   "source": [
    "# Print the number pi to a file with pi.txt using print\n",
    "from math import pi\n",
    "\n",
    "with open('pi.txt', 'w') as pi_file:\n",
    "    print(pi, file = pi_file)\n",
    "    # pi_file.close()"
   ]
  },
  {
   "cell_type": "code",
   "execution_count": null,
   "metadata": {
    "deletable": false,
    "editable": false,
    "nbgrader": {
     "cell_type": "code",
     "checksum": "1289ca0bb71fde026a1b11d5f404cf89",
     "grade": true,
     "grade_id": "cell-37e29477ff926375",
     "locked": true,
     "points": 1,
     "schema_version": 3,
     "solution": false
    }
   },
   "outputs": [],
   "source": [
    "# Check the first four characters in the file\n",
    "assert open('pi.txt').read()[:4] == '3.14'"
   ]
  },
  {
   "cell_type": "markdown",
   "metadata": {},
   "source": [
    "### Exercise 8\n",
    "Implement a file copy command command with Python read an write commands\n"
   ]
  },
  {
   "cell_type": "code",
   "execution_count": null,
   "metadata": {
    "deletable": false,
    "nbgrader": {
     "cell_type": "code",
     "checksum": "c404252accc3be9af0c329e8bd602a4e",
     "grade": false,
     "grade_id": "cell-6360c6f2039531d7",
     "locked": false,
     "schema_version": 3,
     "solution": true
    }
   },
   "outputs": [],
   "source": [
    "def cp(source, target):\n",
    "    \"\"\"\n",
    "    Copies textfile source to target\n",
    "    \"\"\"\n",
    "    with open(source,'r') as old_file, open(target,'w') as new_file:\n",
    "        for line in old_file:\n",
    "            new_file.write(line)\n",
    "    return(new_file)"
   ]
  },
  {
   "cell_type": "code",
   "execution_count": null,
   "metadata": {
    "deletable": false,
    "editable": false,
    "nbgrader": {
     "cell_type": "code",
     "checksum": "eaccc690403274764ec9bed34cd444b5",
     "grade": false,
     "grade_id": "cell-f8c9c62b3953114a",
     "locked": true,
     "schema_version": 3,
     "solution": false,
     "task": false
    }
   },
   "outputs": [],
   "source": [
    "%%file blake.txt\n",
    "To see a World in a Grain of Sand\n",
    "And a Heaven in a Wild Flower,\n",
    "Hold Infinity in the palm of your hand \n",
    "And Eternity in an hour."
   ]
  },
  {
   "cell_type": "code",
   "execution_count": null,
   "metadata": {
    "deletable": false,
    "editable": false,
    "nbgrader": {
     "cell_type": "code",
     "checksum": "591cbb6dde76d21a3d31f101cfa08655",
     "grade": true,
     "grade_id": "cell-d7bfacb6d05ced8a",
     "locked": true,
     "points": 1,
     "schema_version": 3,
     "solution": false,
     "task": false
    }
   },
   "outputs": [],
   "source": [
    "cp('blake.txt', 'poem.txt')\n",
    "result = open('poem.txt').read()\n",
    "expected = open('blake.txt').read()\n",
    "assert result == expected, f'{result} != {expected}'"
   ]
  }
 ],
 "metadata": {
  "kernelspec": {
   "display_name": "Python 3 (ipykernel)",
   "language": "python",
   "name": "python3"
  },
  "language_info": {
   "codemirror_mode": {
    "name": "ipython",
    "version": 3
   },
   "file_extension": ".py",
   "mimetype": "text/x-python",
   "name": "python",
   "nbconvert_exporter": "python",
   "pygments_lexer": "ipython3",
   "version": "3.9.7"
  }
 },
 "nbformat": 4,
 "nbformat_minor": 2
}
