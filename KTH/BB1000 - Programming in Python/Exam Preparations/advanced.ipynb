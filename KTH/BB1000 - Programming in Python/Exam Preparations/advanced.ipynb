{
 "cells": [
  {
   "cell_type": "markdown",
   "metadata": {},
   "source": [
    "Before you turn this problem in, make sure everything runs as expected. First, **restart the kernel** (in the menubar, select Kernel$\\rightarrow$Restart) and then **run all cells** (in the menubar, select Cell$\\rightarrow$Run All)."
   ]
  },
  {
   "cell_type": "markdown",
   "metadata": {},
   "source": [
    "---"
   ]
  },
  {
   "cell_type": "markdown",
   "metadata": {
    "deletable": false,
    "editable": false,
    "nbgrader": {
     "cell_type": "markdown",
     "checksum": "046c68df94a0bb052db86b843849a56a",
     "grade": false,
     "grade_id": "cell-6f1643b6dad0028b",
     "locked": true,
     "schema_version": 3,
     "solution": false,
     "task": false
    }
   },
   "source": [
    "# Advanced concepts\n",
    "\n",
    "This lab provides exercises for decorators and iterators. Complete the assignments and return this notebook `advanced-2020-05-13.ipynb` to Canvas"
   ]
  },
  {
   "cell_type": "markdown",
   "metadata": {
    "deletable": false,
    "editable": false,
    "nbgrader": {
     "cell_type": "markdown",
     "checksum": "dae1a62cc4a5cb932e44f7a3b958c3b8",
     "grade": false,
     "grade_id": "cell-b30da7003d2d1508",
     "locked": true,
     "schema_version": 3,
     "solution": false,
     "task": false
    }
   },
   "source": [
    "## Context managers\n",
    "\n",
    "Context managers are statements with a `with` block and are implemented by classes with `__enter__` and `__exit__` methods. The official documentation is at https://docs.python.org/3/library/stdtypes.html#context-manager-types"
   ]
  },
  {
   "cell_type": "markdown",
   "metadata": {
    "deletable": false,
    "editable": false,
    "nbgrader": {
     "cell_type": "markdown",
     "checksum": "9689565c018616b765ad684dec276e5b",
     "grade": false,
     "grade_id": "cell-2bb4c30693fb9874",
     "locked": true,
     "schema_version": 3,
     "solution": false,
     "task": false
    }
   },
   "source": [
    "### Assignment 1\n",
    "\n",
    "Given the color switch escape codes for terminals\n",
    "\n",
    "    >>> GREEN = \"\\033[32m\"\n",
    "    >>> RED = \"\\033[31m\"\n",
    "    >>> RESET = \"\\033[00m\"\n",
    "\n",
    "Having the property illustrated by the following block:"
   ]
  },
  {
   "cell_type": "code",
   "execution_count": 12,
   "metadata": {
    "deletable": false,
    "editable": false,
    "nbgrader": {
     "cell_type": "code",
     "checksum": "47ba07be1aaa1b8384f229eea76ff76b",
     "grade": false,
     "grade_id": "cell-f860c50d7b8a7ad7",
     "locked": true,
     "schema_version": 3,
     "solution": false,
     "task": false
    }
   },
   "outputs": [
    {
     "name": "stdout",
     "output_type": "stream",
     "text": [
      "\u001b[32myes \u001b[31mno \u001b[00mmaybe\n"
     ]
    }
   ],
   "source": [
    "GREEN = \"\\033[32m\"\n",
    "RED = \"\\033[31m\"\n",
    "RESET = \"\\033[00m\"\n",
    "\n",
    "print (GREEN + \"yes\", RED + \"no\", RESET + 'maybe')"
   ]
  },
  {
   "cell_type": "markdown",
   "metadata": {
    "deletable": false,
    "editable": false,
    "nbgrader": {
     "cell_type": "markdown",
     "checksum": "2f2b0382f475a46fe3d2fd908644ef5f",
     "grade": false,
     "grade_id": "cell-be04aaf62c75a44b",
     "locked": true,
     "schema_version": 3,
     "solution": false,
     "task": false
    }
   },
   "source": [
    "Complete a context manager that changes the color of the output such that\n",
    "\n",
    "<code>\n",
    ">>> with Color(RED):\n",
    "...     print('hello')    \n",
    "<span style=\"color:red\">hello</span>\n",
    ">>> with Color(GREEN):\n",
    "...     print('hello')    \n",
    "<span style=\"color:green\">hello</span>\n",
    ">>>\n",
    "</code>\n"
   ]
  },
  {
   "cell_type": "code",
   "execution_count": 13,
   "metadata": {
    "deletable": false,
    "nbgrader": {
     "cell_type": "code",
     "checksum": "f88ac4e22e744986e77b4f01d0fc2046",
     "grade": false,
     "grade_id": "cell-e1388e8c145cd2ca",
     "locked": false,
     "schema_version": 3,
     "solution": true,
     "task": false
    }
   },
   "outputs": [],
   "source": [
    "class Color:\n",
    "    GREEN = \"\\033[32m\"\n",
    "    RED = \"\\033[31m\"\n",
    "    RESET = \"\\033[00m\"\n",
    "\n",
    "    def __init__(self, color):\n",
    "        self.color = color\n",
    "        \n",
    "    def __enter__(self): # CALLED AFTER \"WITH\"\n",
    "        print(self.color)\n",
    "        \n",
    "    def __exit__(self, *args): # CALLED AT THE \"END\"\n",
    "        print(RESET, end='')"
   ]
  },
  {
   "cell_type": "code",
   "execution_count": 14,
   "metadata": {
    "deletable": false,
    "editable": false,
    "nbgrader": {
     "cell_type": "code",
     "checksum": "591dd881379285ef7933bc889b62de71",
     "grade": true,
     "grade_id": "cell-73773482ff268d10",
     "locked": true,
     "points": 1,
     "schema_version": 3,
     "solution": false,
     "task": false
    }
   },
   "outputs": [
    {
     "name": "stdout",
     "output_type": "stream",
     "text": [
      "\u001b[31m\n",
      "Red day\n",
      "\u001b[00m\u001b[32m\n",
      "Green forest\n",
      "\u001b[00m"
     ]
    }
   ],
   "source": [
    "# Verify that you get color output\n",
    "\n",
    "with Color(RED):\n",
    "    print('Red day')\n",
    "    \n",
    "with Color(GREEN):\n",
    "    print('Green forest')\n",
    "    "
   ]
  },
  {
   "cell_type": "markdown",
   "metadata": {
    "deletable": false,
    "editable": false,
    "nbgrader": {
     "cell_type": "markdown",
     "checksum": "6b9896e3513f9d3bb14f1bb2e54a6b6a",
     "grade": false,
     "grade_id": "cell-781f8d6836da605c",
     "locked": true,
     "schema_version": 3,
     "solution": false,
     "task": false
    }
   },
   "source": [
    "## Decorators\n",
    "\n",
    "A decorator is a function that modifies the behaviour of another function."
   ]
  },
  {
   "cell_type": "markdown",
   "metadata": {},
   "source": [
    "The syntax\n",
    "\n",
    "~~~\n",
    "@decorator1\n",
    "@decorator2\n",
    "def f():\n",
    "   ...\n",
    "~~~\n",
    "\n",
    "is so called syntactic sugar for\n",
    "\n",
    "~~~\n",
    "def f():\n",
    "    ...\n",
    "~~~\n",
    "\n",
    "f = decorator1(decorator2(f))\n",
    "\n",
    "The first form is convenient for our own code, but the second form must be used when we do not have the source at hand, e.g. for built-in functions"
   ]
  },
  {
   "cell_type": "markdown",
   "metadata": {
    "deletable": false,
    "editable": false,
    "nbgrader": {
     "cell_type": "markdown",
     "checksum": "a4f3c842d2f3669de365e39384eef856",
     "grade": false,
     "grade_id": "cell-90642a3cff5d3e71",
     "locked": true,
     "schema_version": 3,
     "solution": false,
     "task": false
    }
   },
   "source": [
    "### Assignment 2\n",
    "\n",
    "Repeat the functionality of Assignment1 for decorators such that a decorated function gets color output:\n",
    "\n",
    "<code>\n",
    "@print_in_red\n",
    "def hello():\n",
    "    print(\"Hello world!\")\n",
    "</code>\n",
    "\n",
    "<code>\n",
    ">>> hello()\n",
    "<span style=\"color:red\">Hello world!</span>\n",
    "</code>\n",
    ">>>"
   ]
  },
  {
   "cell_type": "code",
   "execution_count": 15,
   "metadata": {
    "deletable": false,
    "nbgrader": {
     "cell_type": "code",
     "checksum": "3c78e9cc8243770b5764392f5701d206",
     "grade": false,
     "grade_id": "cell-1282ae349daeef71",
     "locked": false,
     "schema_version": 3,
     "solution": true,
     "task": false
    }
   },
   "outputs": [],
   "source": [
    "def print_in_red(f):\n",
    "    RED = \"\\033[31m\"\n",
    "    RESET = \"\\033[00m\"\n",
    "\n",
    "    def wrapper(*args, **kwargs):\n",
    "        print(RED)\n",
    "        wrap_return = f(*args, **kwargs)\n",
    "        print(RESET)\n",
    "        return(wrap_return)\n",
    "    return(wrapper)"
   ]
  },
  {
   "cell_type": "code",
   "execution_count": 16,
   "metadata": {
    "deletable": false,
    "editable": false,
    "nbgrader": {
     "cell_type": "code",
     "checksum": "f16664ab44967fa451ccd238aa47594c",
     "grade": true,
     "grade_id": "cell-19eb7c83720e263e",
     "locked": true,
     "points": 1,
     "schema_version": 3,
     "solution": false,
     "task": false
    }
   },
   "outputs": [
    {
     "name": "stdout",
     "output_type": "stream",
     "text": [
      "\u001b[31m\n",
      "Hello world!\n",
      "\u001b[00m\n",
      "Test if color is reseted\n"
     ]
    }
   ],
   "source": [
    "# Verify that you get color output\n",
    "\n",
    "@print_in_red\n",
    "def hello():\n",
    "    print(\"Hello world!\")\n",
    "     \n",
    "hello()\n",
    "\n",
    "print('Test if color is reseted')"
   ]
  },
  {
   "cell_type": "markdown",
   "metadata": {
    "deletable": false,
    "editable": false,
    "nbgrader": {
     "cell_type": "markdown",
     "checksum": "5d0b52232bb53183da019c18030ae0d1",
     "grade": false,
     "grade_id": "cell-47232d48af8aa4c3",
     "locked": true,
     "schema_version": 3,
     "solution": false,
     "task": false
    }
   },
   "source": [
    "## Iterators/generators"
   ]
  },
  {
   "cell_type": "markdown",
   "metadata": {
    "deletable": false,
    "editable": false,
    "nbgrader": {
     "cell_type": "markdown",
     "checksum": "d68ffedfd949ad04b37e0f079975d3c1",
     "grade": false,
     "grade_id": "cell-c4f3058d70f72b3e",
     "locked": true,
     "schema_version": 3,
     "solution": false,
     "task": false
    }
   },
   "source": [
    "### Assignment 3\n",
    "\n",
    "The `datetime` module contains a number of helper function to handle dates and times. Here we will use the `date` and `timedelta` objects. \n",
    "\n",
    "* `date` objects refers to date information with year/month/day and more\n",
    "* `timedelta` objects are differences between two dates (or date-times). They can be added to date objects to obtain new dates in some future.\n",
    "\n",
    "Example of how they work is"
   ]
  },
  {
   "cell_type": "code",
   "execution_count": 17,
   "metadata": {
    "deletable": false,
    "editable": false,
    "nbgrader": {
     "cell_type": "code",
     "checksum": "a311508ef8354b1d5a6d5a957337ec66",
     "grade": false,
     "grade_id": "cell-8ccf90094351250e",
     "locked": true,
     "schema_version": 3,
     "solution": false,
     "task": false
    }
   },
   "outputs": [
    {
     "data": {
      "text/plain": [
       "datetime.date(2022, 3, 7)"
      ]
     },
     "execution_count": 17,
     "metadata": {},
     "output_type": "execute_result"
    }
   ],
   "source": [
    "import datetime\n",
    "today = datetime.date.today()\n",
    "today"
   ]
  },
  {
   "cell_type": "code",
   "execution_count": 18,
   "metadata": {
    "deletable": false,
    "editable": false,
    "nbgrader": {
     "cell_type": "code",
     "checksum": "48fd6a2d7ad59a7388d04e43428363b5",
     "grade": false,
     "grade_id": "cell-c54567b5833bbcfd",
     "locked": true,
     "schema_version": 3,
     "solution": false,
     "task": false
    }
   },
   "outputs": [
    {
     "data": {
      "text/plain": [
       "datetime.date(2022, 3, 14)"
      ]
     },
     "execution_count": 18,
     "metadata": {},
     "output_type": "execute_result"
    }
   ],
   "source": [
    "week = datetime.timedelta(days=7)\n",
    "today + week"
   ]
  },
  {
   "cell_type": "markdown",
   "metadata": {
    "deletable": false,
    "editable": false,
    "nbgrader": {
     "cell_type": "markdown",
     "checksum": "ebd532787e3311513f174ce13eb99a9c",
     "grade": false,
     "grade_id": "cell-f170adc352540a10",
     "locked": true,
     "schema_version": 3,
     "solution": false,
     "task": false
    }
   },
   "source": [
    "Write a generator that returns the dates a number of weeks from now, in string format using `isoformat` method"
   ]
  },
  {
   "cell_type": "code",
   "execution_count": 19,
   "metadata": {
    "deletable": false,
    "nbgrader": {
     "cell_type": "code",
     "checksum": "30e8c4c1b733010a85df66af36739512",
     "grade": false,
     "grade_id": "cell-03b5401cc183bf8e",
     "locked": false,
     "schema_version": 3,
     "solution": true,
     "task": false
    }
   },
   "outputs": [],
   "source": [
    "def date_weeks_ahead(starting_date, number_of_weeks):\n",
    "    week = datetime.timedelta(days=7)\n",
    "    start = starting_date\n",
    "    dates = []\n",
    "    for i in range(1,number_of_weeks+1):\n",
    "        dates.append(str(start + week*i))\n",
    "    return(dates)"
   ]
  },
  {
   "cell_type": "code",
   "execution_count": 20,
   "metadata": {
    "deletable": false,
    "editable": false,
    "nbgrader": {
     "cell_type": "code",
     "checksum": "acdc3c4e125b18562139a34b868d4ae8",
     "grade": true,
     "grade_id": "cell-b42fc950abbaa239",
     "locked": true,
     "points": 1,
     "schema_version": 3,
     "solution": false,
     "task": false
    }
   },
   "outputs": [],
   "source": [
    "today = datetime.date(2022, 3, 4)\n",
    "actual = list(date_weeks_ahead(today, 4))\n",
    "expected = ['2022-03-11', '2022-03-18', '2022-03-25', '2022-04-01']\n",
    "assert actual == expected, f'{actual} != {expected}'"
   ]
  },
  {
   "cell_type": "markdown",
   "metadata": {},
   "source": [
    "# PAST EXAM QUESTIONS"
   ]
  },
  {
   "cell_type": "markdown",
   "metadata": {},
   "source": [
    "### The `partial()` function"
   ]
  },
  {
   "cell_type": "markdown",
   "metadata": {},
   "source": [
    "The `partial()` is used for partial function application which `“freezes”` some portion of a function’s arguments and/or keywords resulting in a new object\n",
    "with a simplified signature. For example, `partial()` can be used to create a callable that behaves like the `int()` function where the base argument\n",
    "defaults to two:\n",
    "\n",
    "    >>> from functools import partial\n",
    "    >>> basetwo = partial(int, base=2)\n",
    "    >>> basetwo.__doc__ = 'Convert base 2 string to an int.'\n",
    "    >>> basetwo('10010')\n",
    "    18\n",
    "\n",
    "Make an analogy of this for the print function such that objects are printed on separate lines.\n",
    "\n",
    "Hint: use the `sep` keyword argument\n",
    "\n",
    "Solution:\n",
    "\n",
    "    >>> lprint = partial(print, sep='\\n')\n",
    "    \n",
    "    >>> lprint('a', 'b', 'c')\n",
    "    a\n",
    "    b\n",
    "    c"
   ]
  },
  {
   "cell_type": "markdown",
   "metadata": {},
   "source": [
    "#### Return a `zip object` whose `.next()` method returns a tuple"
   ]
  },
  {
   "cell_type": "markdown",
   "metadata": {},
   "source": [
    "The zip documentation contains\n",
    "\n",
    "`class zip(object) zip(iter1 [,iter2 [...]]) --> zip object`\n",
    "\n",
    "Return a `zip object` whose `.next()` method returns a `tuple` where the `i-th element` comes from the `i-th iterable argument.` The `.next()` method\n",
    "continues until the shortest iterable in the argument sequence is exhausted and then it raises `StopIteration`.\n",
    "\n",
    "Solution: \n",
    "\n",
    "    >>> l1 = [1, 2, 3]\n",
    "    >>> l2 = [4, 5]\n",
    "        >>> for z in zip(l1, l2):\n",
    "        >>> print(z)\n",
    "\n",
    "    (1, 4)\n",
    "    (2, 5)"
   ]
  },
  {
   "cell_type": "markdown",
   "metadata": {},
   "source": [
    "### The `map` function"
   ]
  },
  {
   "cell_type": "markdown",
   "metadata": {},
   "source": [
    "The map function has the following documentation\n",
    "\n",
    "`class map(object) map(func, iterables) --> map object*`\n",
    "\n",
    "`Make an iterator that computes the function using arguments from each of the iterables. Stops when the shortest iterable is exhausted.`\n",
    "\n",
    "What is the output of the following?\n",
    "\n",
    "    l1 = [1, 2, 3]\n",
    "    l2 = [4, 5]\n",
    "    def f(x, y): return x + y\n",
    "    for s in map(f, l1, l2):\n",
    "    print(s)\n",
    "\n",
    "Solution:\n",
    "\n",
    "    5\n",
    "    7"
   ]
  },
  {
   "cell_type": "markdown",
   "metadata": {},
   "source": [
    "### The `colorama module` --> color output in a terminal"
   ]
  },
  {
   "cell_type": "markdown",
   "metadata": {},
   "source": [
    "The colorama module in Python can be used to give color output in a terminal e.g.\n",
    "\n",
    "    >>> from colorama import Fore, Style\n",
    "    >>> print(Fore.RED + 'some red text' + Style.RESET_ALL)\n",
    "    some red text\n",
    "\n",
    "Use this to design a decorator such that all output from a decorated function is in red, such that:\n",
    "\n",
    "    >>> @red\n",
    "        def hello():\n",
    "        ... print(\"Hello world!\")\n",
    "    >>> hello()\n",
    "    Hello world! (in red)\n",
    "\n",
    "Solution:"
   ]
  },
  {
   "cell_type": "code",
   "execution_count": null,
   "metadata": {},
   "outputs": [],
   "source": [
    "def red(f):\n",
    "    def wrap(*args, **kwargs):\n",
    "        print(Fore.RED, end='') # '' Removes empty printed lines\n",
    "        f(*args, **kwargs)\n",
    "        print(Style.RESET_ALL)\n",
    "    return wrap"
   ]
  },
  {
   "cell_type": "markdown",
   "metadata": {},
   "source": [
    "### Identity Decorators"
   ]
  },
  {
   "cell_type": "markdown",
   "metadata": {},
   "source": [
    "How do you write and apply an identity decorator, which does not modify\n",
    "the function it is applied to?\n",
    "\n",
    "    def identity(func):\n",
    "        return func"
   ]
  },
  {
   "cell_type": "markdown",
   "metadata": {},
   "source": [
    "### Datatypes of `*args` and `**kwargs`"
   ]
  },
  {
   "cell_type": "markdown",
   "metadata": {},
   "source": [
    "A general function definition has starred arguments:\n",
    "\n",
    "    >>> def f(*args, **kwargs):\n",
    "            print(type(args).__name__)\n",
    "            print(type(kwargs).__name__)\n",
    "\n",
    "What is the data type of args and kwargs respectively?\n",
    "\n",
    "    >>> f()\n",
    "    tuple = \"args\"\n",
    "    dict = \"kwargs\""
   ]
  },
  {
   "cell_type": "markdown",
   "metadata": {},
   "source": [
    "### Decorator that runs a function twice"
   ]
  },
  {
   "cell_type": "markdown",
   "metadata": {},
   "source": [
    "Such that:\n",
    "\n",
    "    @dotwice\n",
    "    def hello():\n",
    "        print(\"Hello\")\n",
    "        \n",
    "    >>> hello()\n",
    "    Hello\n",
    "    Hello"
   ]
  },
  {
   "cell_type": "code",
   "execution_count": null,
   "metadata": {},
   "outputs": [],
   "source": [
    "def dotwice(func):\n",
    "    def wrapper(*args, **kwargs):\n",
    "        func(*args, **kwargs)\n",
    "        func(*args, **kwargs)\n",
    "    return wrapper"
   ]
  },
  {
   "cell_type": "markdown",
   "metadata": {},
   "source": [
    "### Accessing a decorator function without the `@decorator` "
   ]
  },
  {
   "cell_type": "markdown",
   "metadata": {},
   "source": [
    "The decorator syntax is handy when you apply it to your own code, e.g.\n",
    "\n",
    "    @timer\n",
    "    def myfunc():\n",
    "    ...\n",
    "\n",
    "Another syntax must be use if you want to apply it to a library function without direct access to the code. \n",
    "\n",
    "What would you write to apply the math.sqrt function?\n",
    "\n",
    "    math.sqrt = timer(math.sqrt)"
   ]
  }
 ],
 "metadata": {
  "kernelspec": {
   "display_name": "Python 3 (ipykernel)",
   "language": "python",
   "name": "python3"
  },
  "language_info": {
   "codemirror_mode": {
    "name": "ipython",
    "version": 3
   },
   "file_extension": ".py",
   "mimetype": "text/x-python",
   "name": "python",
   "nbconvert_exporter": "python",
   "pygments_lexer": "ipython3",
   "version": "3.9.7"
  }
 },
 "nbformat": 4,
 "nbformat_minor": 4
}
