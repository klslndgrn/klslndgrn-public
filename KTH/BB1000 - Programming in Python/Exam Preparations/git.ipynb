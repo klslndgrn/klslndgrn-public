{
 "cells": [
  {
   "cell_type": "markdown",
   "metadata": {},
   "source": [
    "# GIT INSTRUCTIONS\n"
   ]
  },
  {
   "cell_type": "markdown",
   "metadata": {},
   "source": [
    "Computer lab: git (STEPS)\n",
    "\n",
    "1. Web\n",
    "    - Create fork of https://gits-15.sys.kth.se/BB1000/git-2022-01-31Links to an external site.\n",
    "      \n",
    "\n",
    "2. Git Bash\n",
    "    - git clone  git@gits-15.sys.kth.se:kllindg/git-2022-01-31.git\n",
    "\n",
    "3. Git Bash\n",
    "    - cd /c/users/klsln/git-2022-01-31\n",
    "\n",
    "4. Git Bash\n",
    "    - git branch devel\n",
    "\n",
    "5. Git Bash\n",
    "    - git checkout devel"
   ]
  },
  {
   "cell_type": "markdown",
   "metadata": {},
   "source": [
    "# PAST EXAM QUESITONS"
   ]
  },
  {
   "cell_type": "markdown",
   "metadata": {},
   "source": [
    "#### How do you use git to include new changes in a remote repository into your own local repository?"
   ]
  },
  {
   "cell_type": "markdown",
   "metadata": {},
   "source": [
    "`git pull`"
   ]
  }
 ],
 "metadata": {
  "language_info": {
   "name": "python"
  },
  "orig_nbformat": 4
 },
 "nbformat": 4,
 "nbformat_minor": 2
}
