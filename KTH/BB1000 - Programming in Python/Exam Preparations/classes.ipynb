{
 "cells": [
  {
   "cell_type": "markdown",
   "metadata": {},
   "source": [
    "Before you turn this problem in, make sure everything runs as expected. First, **restart the kernel** (in the menubar, select Kernel$\\rightarrow$Restart) and then **run all cells** (in the menubar, select Cell$\\rightarrow$Run All)."
   ]
  },
  {
   "cell_type": "markdown",
   "metadata": {},
   "source": [
    "---"
   ]
  },
  {
   "cell_type": "markdown",
   "metadata": {
    "deletable": false,
    "editable": false,
    "nbgrader": {
     "cell_type": "markdown",
     "checksum": "225e5d7f8068c4c1b2b7750f6ecbf35d",
     "grade": false,
     "grade_id": "cell-5930d298e0fb0e89",
     "locked": true,
     "schema_version": 3,
     "solution": false,
     "task": false
    }
   },
   "source": [
    "# Using classes in Python"
   ]
  },
  {
   "cell_type": "markdown",
   "metadata": {},
   "source": [
    "## A. Create class for 3D vector \n",
    "\n",
    "Create a class for storing a 3D vector (x, y, z coordinates), and which provides a set of functions for manipulating the coordinates.  "
   ]
  },
  {
   "cell_type": "markdown",
   "metadata": {},
   "source": [
    "* Implement class Vector3D which has the following properties:\n",
    "* Attributes\n",
    "    - coord_x stores x coordinate (object attribute)\n",
    "    - coord_y stores y coordinate (object attribute)\n",
    "    - coord_z stores z coordinate (object attribute)\n",
    "* Ordinary class methods \n",
    "    - length() : computes length of vector* \n",
    "    - norm()   : renormalizes vector to unit length vector*\n",
    "      * for square root use math.sqrt function from math library\n",
    "* Overloaded operations  \n",
    "    - addition operator(+)     : implement `__add__` method \n",
    "    - substraction operator(-) : implement `__sub__` method "
   ]
  },
  {
   "cell_type": "code",
   "execution_count": 150,
   "metadata": {
    "deletable": false,
    "nbgrader": {
     "cell_type": "code",
     "checksum": "f56438fcd8aabfacd651d7d1083f8fef",
     "grade": false,
     "grade_id": "cell-106104681ce80401",
     "locked": false,
     "schema_version": 3,
     "solution": true
    }
   },
   "outputs": [],
   "source": [
    "import math\n",
    "\n",
    "class Vector3D():\n",
    "    \"\"\"\n",
    "    Class for manipulation of 3D-vectors\n",
    "    \n",
    "    instance attributes:\n",
    "        coord_x, coord_y, coord_z (float)\n",
    "    \n",
    "    class methods\n",
    "        length (float): returns Euclidean norm of vector\n",
    "        normalize (None): scales coordinates so that resulting vector has length 1\n",
    "        __add__ (Vector3D) returns new vector as vector sum of two vectors\n",
    "        __sub__ (Vector3D) returns new vector as vector difference of two vectors\n",
    "        __repr__: string representation of vector\n",
    "\n",
    "    \"\"\"\n",
    "    def __init__(self, x, y, z):\n",
    "        self.coord_x = x\n",
    "        self.coord_y = y\n",
    "        self.coord_z = z\n",
    "\n",
    "    def length(self):\n",
    "        self.len = math.sqrt(self.coord_x**2 + self.coord_y**2 + self.coord_z**2)\n",
    "        return(self.len)\n",
    "\n",
    "    def normalize(self):\n",
    "        base = self.length()\n",
    "        self.coord_x = self.coord_x/base\n",
    "        self.coord_y = self.coord_y/base\n",
    "        self.coord_z = self.coord_z/base\n",
    "\n",
    "    def __add__(self, other):\n",
    "        return Vector3D(self.coord_x + other.coord_x, self.coord_y + other.coord_y, self.coord_z + other.coord_z)\n",
    "\n",
    "    def __sub__(self, other):\n",
    "        return Vector3D(self.coord_x - other.coord_x, self.coord_y - other.coord_y, self.coord_z - other.coord_z)\n",
    "\n",
    "    def __repr__(self):\n",
    "        return(f\"[{self.coord_x} , {self.coord_y} , {self.coord_z}]\")"
   ]
  },
  {
   "cell_type": "code",
   "execution_count": 151,
   "metadata": {},
   "outputs": [],
   "source": [
    "# Define helper function\n",
    "def assert_close(x, y, max_difference=1e-8):\n",
    "    calculated_difference = abs(x - y)\n",
    "    error_message = f'Not close enough: {calculated_difference} > {max_difference}'\n",
    "    assert calculated_difference < max_difference, error_message"
   ]
  },
  {
   "cell_type": "code",
   "execution_count": 152,
   "metadata": {
    "deletable": false,
    "editable": false,
    "nbgrader": {
     "cell_type": "code",
     "checksum": "2cec5c67103f870dc1fbafb683ad0d7f",
     "grade": true,
     "grade_id": "cell-e8becee65f92a575",
     "locked": true,
     "points": 1,
     "schema_version": 3,
     "solution": false
    }
   },
   "outputs": [],
   "source": [
    "# Verify Vector3D constructor\n",
    "vector = Vector3D(1.0, 2.0, 4.0)\n",
    "assert_close(vector.coord_x, 1.0)\n",
    "assert_close(vector.coord_y, 2.0)\n",
    "assert_close(vector.coord_z, 4.0)"
   ]
  },
  {
   "cell_type": "code",
   "execution_count": 153,
   "metadata": {
    "deletable": false,
    "editable": false,
    "nbgrader": {
     "cell_type": "code",
     "checksum": "e9230f7026b4ffcdd3fbec36f072d716",
     "grade": true,
     "grade_id": "cell-3328f70c25343894",
     "locked": true,
     "points": 1,
     "schema_version": 3,
     "solution": false
    }
   },
   "outputs": [],
   "source": [
    "# Verify length method in Vector3D class \n",
    "vector = Vector3D(1.0, 2.0, 4.0)\n",
    "\n",
    "assert_close(vector.length(), math.sqrt(21.0))"
   ]
  },
  {
   "cell_type": "code",
   "execution_count": 154,
   "metadata": {
    "deletable": false,
    "editable": false,
    "nbgrader": {
     "cell_type": "code",
     "checksum": "567e4dea8aa2712b42e75eb294c9576e",
     "grade": true,
     "grade_id": "cell-96e5a932f3347dcf",
     "locked": true,
     "points": 1,
     "schema_version": 3,
     "solution": false
    }
   },
   "outputs": [],
   "source": [
    "# Verify norm method in Vector3D class \n",
    "vector = Vector3D(1.0, 2.0, 4.0)\n",
    "\n",
    "vector.normalize()\n",
    "\n",
    "assert_close(vector.length(),1.0)"
   ]
  },
  {
   "cell_type": "code",
   "execution_count": 155,
   "metadata": {
    "deletable": false,
    "editable": false,
    "nbgrader": {
     "cell_type": "code",
     "checksum": "5235d09e6673fa5649900e7aac964b41",
     "grade": true,
     "grade_id": "cell-1f019ebe8894fb2b",
     "locked": true,
     "points": 1,
     "schema_version": 3,
     "solution": false
    }
   },
   "outputs": [],
   "source": [
    "#Verify addition operator for two vectors \n",
    "avector = Vector3D(1.0, 2.0, 4.0)\n",
    "bvector = Vector3D(2.0, 3.3, 0.9)\n",
    "\n",
    "cvector = avector + bvector\n",
    "\n",
    "assert_close(cvector.coord_x, 3.0)\n",
    "assert_close(cvector.coord_y, 5.3)\n",
    "assert_close(cvector.coord_z, 4.9)"
   ]
  },
  {
   "cell_type": "code",
   "execution_count": 156,
   "metadata": {
    "deletable": false,
    "editable": false,
    "nbgrader": {
     "cell_type": "code",
     "checksum": "e23a9462df114f0d934e1c3c5f3ec884",
     "grade": true,
     "grade_id": "cell-965fcb9cfdf9230b",
     "locked": true,
     "points": 1,
     "schema_version": 3,
     "solution": false
    }
   },
   "outputs": [
    {
     "name": "stdout",
     "output_type": "stream",
     "text": [
      "[1.0 , 2.0 , 4.0]\n"
     ]
    }
   ],
   "source": [
    "#Verify substraction operator for two vectors \n",
    "avector = Vector3D(1.0, 2.0, 4.0)\n",
    "bvector = Vector3D(2.0, 0.2, 0.9)\n",
    "\n",
    "cvector = avector - bvector\n",
    "\n",
    "assert_close(cvector.coord_x, -1.0)\n",
    "assert_close(cvector.coord_y,  1.8)\n",
    "assert_close(cvector.coord_z,  3.1)\n",
    "\n",
    "# MY OWN TEST\n",
    "print(repr(avector))"
   ]
  },
  {
   "cell_type": "markdown",
   "metadata": {},
   "source": [
    "## B. Create class for currency data storage \n",
    "\n",
    "Create a class for storing money in SEK or Euros, which provides a set of functions for manipulating the amount and type of currency. "
   ]
  },
  {
   "cell_type": "markdown",
   "metadata": {},
   "source": [
    "* Implement class Money which has the following properties:\n",
    "* Attributes\n",
    "  - conversion_rate stores conversion rate from EURO to SEK (class attribute, default value 10.0)\n",
    "  - currency stores currency type ('SEK' or 'EURO') (instance attribute)\n",
    "  - amount stores amount of money (instance attribute)\n",
    "* Ordinary class methods\n",
    "  - set_conversion_rate(new_conversion_rate) : for setting conversion rate \n",
    "* Overloaded operations\n",
    "  - addition operator(+)     : implement addition of money ammounts* \n",
    "  - substraction operator(-) : implement substraction of money ammounts* \n",
    "  * currency type of result must be currency type of first operand in arithmetical expresion "
   ]
  },
  {
   "cell_type": "code",
   "execution_count": 157,
   "metadata": {
    "deletable": false,
    "nbgrader": {
     "cell_type": "code",
     "checksum": "dfba5deb27aa9abc8918ac06bce85a58",
     "grade": false,
     "grade_id": "cell-dbe1d3027a05e5a4",
     "locked": false,
     "schema_version": 3,
     "solution": true
    }
   },
   "outputs": [],
   "source": [
    "class Money:\n",
    "    \"\"\"\n",
    "    A class for manipulation of different currencies\n",
    "    \n",
    "    class attributes:\n",
    "        conversion_rate (float) \n",
    "    instance attributes:\n",
    "        amount (float)\n",
    "        currency (str)\n",
    "    class methods:\n",
    "        set_conversion_rate: resets conversion rate\n",
    "        __add__: implements addition of monies (right side currency converted to left side if different)\n",
    "        __sub__: implements subtraction of monies\n",
    "    \"\"\"\n",
    "\n",
    "    # CONVERSION RATE (CLASS ATTRIBUTE)\n",
    "    conversion_rate = 10\n",
    "\n",
    "    def __init__(self, m, c):\n",
    "        self.amount = m\n",
    "        self.currency = c\n",
    "    def set_conversion_rate(self, rate):\n",
    "        Money.conversion_rate = rate\n",
    "    def reset_conversion_rate(self):\n",
    "        Money.conversion_rate = 10\n",
    "    def __add__(self, other):\n",
    "        if self.currency == other.currency:\n",
    "            curr = self.currency\n",
    "            return Money(self.amount + other.amount, curr)\n",
    "        else:\n",
    "            if self.currency == 'SEK':\n",
    "                curr = self.currency\n",
    "                other.currency = 'SEK'\n",
    "                other.amount = other.amount * 10\n",
    "                return Money(self.amount + other.amount, curr)\n",
    "            else:\n",
    "                curr = self.currency\n",
    "                other.currency = 'EUR'\n",
    "                other.amount = other.amount // 10\n",
    "                return Money(self.amount + other.amount, curr)\n",
    "                # I could've moved the conversion \"* 10\" or \"// 10\" into the return and NOT change the specifications of the variable.\n",
    "                # Wity my method of choice I am changing the specifications of the variables as before returning a new variable.\n",
    "                # Another method is used below for \"__sub__\"\n",
    "    def __sub__(self, other):\n",
    "        if self.currency == other.currency:\n",
    "            curr = self.currency\n",
    "            return Money(self.amount - other.amount, curr)\n",
    "        else:\n",
    "            if self.currency == 'SEK':\n",
    "                curr = self.currency\n",
    "                return Money(self.amount - (other.amount * 10), curr)\n",
    "            else:\n",
    "                curr = self.currency\n",
    "                return Money(self.amount - (other.amount // 10), curr)"
   ]
  },
  {
   "cell_type": "code",
   "execution_count": 158,
   "metadata": {
    "deletable": false,
    "editable": false,
    "nbgrader": {
     "cell_type": "code",
     "checksum": "ee8271856e8dbfb82d20ec229a413cf2",
     "grade": true,
     "grade_id": "cell-73e7fae89242df32",
     "locked": true,
     "points": 1,
     "schema_version": 3,
     "solution": false
    }
   },
   "outputs": [],
   "source": [
    "#Verify class attribute\n",
    "assert Money.conversion_rate == 10.0"
   ]
  },
  {
   "cell_type": "code",
   "execution_count": 159,
   "metadata": {
    "deletable": false,
    "editable": false,
    "nbgrader": {
     "cell_type": "code",
     "checksum": "68f5952670d4ac4f7cfa61e6610f8eb0",
     "grade": true,
     "grade_id": "cell-4181fe5f998c9a96",
     "locked": true,
     "points": 1,
     "schema_version": 3,
     "solution": false
    }
   },
   "outputs": [],
   "source": [
    "#Verify instance attributes\n",
    "ma = Money(100, 'SEK')\n",
    "mb = Money(50, 'EURO')\n",
    "assert ma.amount == 100\n",
    "assert ma.currency == 'SEK'\n",
    "assert mb.amount == 50\n",
    "assert mb.currency == 'EURO'"
   ]
  },
  {
   "cell_type": "code",
   "execution_count": 160,
   "metadata": {
    "deletable": false,
    "editable": false,
    "nbgrader": {
     "cell_type": "code",
     "checksum": "f9e7741755f393a8148cfa2d64669d83",
     "grade": true,
     "grade_id": "cell-fa09de3f68f4fad3",
     "locked": true,
     "points": 1,
     "schema_version": 3,
     "solution": false
    }
   },
   "outputs": [],
   "source": [
    "#Verify addition\n",
    "ma = Money(100, 'SEK')\n",
    "mb = Money(50, 'EURO')\n",
    "mc = ma + mb\n",
    "assert mc.amount == 600\n",
    "assert mc.currency == 'SEK'"
   ]
  },
  {
   "cell_type": "code",
   "execution_count": 161,
   "metadata": {
    "deletable": false,
    "editable": false,
    "nbgrader": {
     "cell_type": "code",
     "checksum": "7fc869a3465912f405fb639cb2a27138",
     "grade": true,
     "grade_id": "cell-77d09f62ca89cb1d",
     "locked": true,
     "points": 1,
     "schema_version": 3,
     "solution": false
    }
   },
   "outputs": [],
   "source": [
    "#Verify subtraction\n",
    "ma = Money(100, 'SEK')\n",
    "mb = Money(50, 'EURO')\n",
    "md = mb - ma\n",
    "assert md.amount == 40\n",
    "assert md.currency == 'EURO'"
   ]
  },
  {
   "cell_type": "code",
   "execution_count": 162,
   "metadata": {
    "deletable": false,
    "editable": false,
    "nbgrader": {
     "cell_type": "code",
     "checksum": "f8dcb0bf0f3bc550368299be8bb31231",
     "grade": true,
     "grade_id": "cell-c2d199586e7c4cbb",
     "locked": true,
     "points": 1,
     "schema_version": 3,
     "solution": false
    }
   },
   "outputs": [],
   "source": [
    "#Set conversion rate\n",
    "ma = Money(100, 'SEK')\n",
    "mb = Money(50, 'EURO')\n",
    "ma.set_conversion_rate(20)\n",
    "assert ma.conversion_rate == 20\n",
    "assert mb.conversion_rate == 20"
   ]
  },
  {
   "cell_type": "markdown",
   "metadata": {},
   "source": [
    "## C. Animals\n",
    "\n",
    "Complete the Animal class to have and a class variable `animals` (list) and two instance variables, `name` (str) and `number` (int). You need to implement `__init__` and `__str__` methods"
   ]
  },
  {
   "cell_type": "code",
   "execution_count": 167,
   "metadata": {
    "deletable": false,
    "nbgrader": {
     "cell_type": "code",
     "checksum": "05b718394f9b7a89228a8698b8c748aa",
     "grade": false,
     "grade_id": "cell-f9faff46e9639b35",
     "locked": false,
     "schema_version": 3,
     "solution": true,
     "task": false
    }
   },
   "outputs": [],
   "source": [
    "class Animal:\n",
    "    \"\"\"\n",
    "    A class for storing animals\n",
    "    \n",
    "    class attributes:\n",
    "        animals: (list) to store all animals\n",
    "    instance attributes:\n",
    "        name:  (str) to store animal name\n",
    "        number: (int) to store animal order number (starting with 1)\n",
    "        \n",
    "    class methods:\n",
    "        __str__: string representation of animal, e.g. \"1. Dog\"\n",
    "        \n",
    "    static methods:\n",
    "        zoo: returns string representation of all animals in orderd lies, e.g. \n",
    "           '''\n",
    "           1. Dog\n",
    "           2. Cat'''\n",
    "    \"\"\"\n",
    "    # ANIMALS (CLASS ATTRIBUTE)\n",
    "    animals = []\n",
    "\n",
    "    def __init__(self, name):\n",
    "        # Appending names to animals\n",
    "        self.name = name\n",
    "\n",
    "        # Animal.animals_name.append(name)\n",
    "        Animal.animals.append(self)\n",
    "\n",
    "        # Assigning numbers to animals\n",
    "        self.number = len(Animal.animals)\n",
    "\n",
    "    def __str__(self):\n",
    "        namecap = self.name.title()\n",
    "        return(f'{self.number}. {namecap}')\n",
    "        \n",
    "    @staticmethod\n",
    "    def zoo():\n",
    "        zoo_list = []\n",
    "        for i,j in zip(Animal.animals, Animal.animals):\n",
    "            zoo_list.append(f'{i.number}. {j.name.title()}')\n",
    "        return('\\n'.join(zoo_list))"
   ]
  },
  {
   "cell_type": "code",
   "execution_count": 164,
   "metadata": {
    "deletable": false,
    "editable": false,
    "nbgrader": {
     "cell_type": "code",
     "checksum": "831164aac79db1b65423d83e7ac48a0e",
     "grade": true,
     "grade_id": "cell-41580406aa20538d",
     "locked": true,
     "points": 1,
     "schema_version": 3,
     "solution": false,
     "task": false
    }
   },
   "outputs": [],
   "source": [
    "Animal.animals.clear()\n",
    "\n",
    "dog = Animal('dog')\n",
    "assert dog.name == 'dog'\n",
    "assert dog.number == 1\n",
    "assert str(dog) == '1. Dog'\n",
    "\n",
    "cat = Animal('cat')\n",
    "assert cat.name == 'cat'\n",
    "assert cat.number == 2\n",
    "assert str(cat) == '2. Cat'\n"
   ]
  },
  {
   "cell_type": "markdown",
   "metadata": {},
   "source": [
    "A static method is a function in a class that is like an ordinary function, that does not depend on any instance (no self argument). \n",
    "\n",
    "In a class it is defined with a `@staticmethod` decorator.\n",
    "\n",
    "It can be appended to the class definition as below. Complete the static method so that it returns a string which lists all member animals"
   ]
  },
  {
   "cell_type": "code",
   "execution_count": 169,
   "metadata": {
    "deletable": false,
    "editable": false,
    "nbgrader": {
     "cell_type": "code",
     "checksum": "7101b6e56af83c7868835fd8d5b2a71f",
     "grade": true,
     "grade_id": "cell-a89d339b99865f5d",
     "locked": true,
     "points": 1,
     "schema_version": 3,
     "solution": false,
     "task": false
    }
   },
   "outputs": [
    {
     "name": "stdout",
     "output_type": "stream",
     "text": [
      "1. Camel\n",
      "2. Donkey\n",
      "3. Hippo\n"
     ]
    }
   ],
   "source": [
    "Animal.animals.clear()\n",
    "\n",
    "#Generate a list of animals and compare with the class attribute\n",
    "animals = [Animal(a) for a in ['camel', 'donkey', 'hippo']]\n",
    "assert animals == Animal.animals, f'{animals} != {Animal.animals}'\n",
    "\n",
    "#zoo should produce a printout of the defined animals\n",
    "zoo_output = Animal.zoo()\n",
    "print(zoo_output)\n",
    "expected_output = \"\"\"\n",
    "1. Camel\n",
    "2. Donkey\n",
    "3. Hippo\n",
    "\"\"\"\n",
    "\n",
    "condition = zoo_output.strip() == expected_output.strip()\n",
    "error_message = f\"\\n{zoo_output}\\n   !=\\n{expected_output}\"\n",
    "\n",
    "assert condition, error_message"
   ]
  },
  {
   "cell_type": "markdown",
   "metadata": {},
   "source": [
    "# PAST EXAM QUESTIONS:"
   ]
  },
  {
   "cell_type": "markdown",
   "metadata": {},
   "source": [
    "### Car - `basics`, `repr`, `str`, `list creation`, `sorting`, `inherit`, etc. "
   ]
  },
  {
   "cell_type": "markdown",
   "metadata": {},
   "source": [
    "#### Car - Basics (`self.XX`)\n",
    "\n",
    "Outline a class definition Car for a car with attributes make, model, year."
   ]
  },
  {
   "cell_type": "markdown",
   "metadata": {},
   "source": [
    "Solution:"
   ]
  },
  {
   "cell_type": "code",
   "execution_count": null,
   "metadata": {},
   "outputs": [],
   "source": [
    "class Car:\n",
    "    def __init__(self, make, model, year):\n",
    "        self.make = make\n",
    "        self.model = model\n",
    "        self.year = year"
   ]
  },
  {
   "cell_type": "markdown",
   "metadata": {},
   "source": [
    "#### Car continued - String representation (`__repr__`)\n",
    "Add a class method so that default string representation of an object mimics the command for creation."
   ]
  },
  {
   "cell_type": "markdown",
   "metadata": {},
   "source": [
    "Such that:\n",
    "\n",
    "    >>> car = Car('Volvo', 'Amazon', 1964)\n",
    "    >>> repr(car)\n",
    "    \"Car('Volvo', 'Amazon', 1964)\"\n",
    "\n",
    "Solution:"
   ]
  },
  {
   "cell_type": "code",
   "execution_count": null,
   "metadata": {},
   "outputs": [],
   "source": [
    "class Car:\n",
    "    def __init__(self, make, model, year):\n",
    "        self.make = make\n",
    "        self.model = model\n",
    "        self.year = year\n",
    "        \n",
    "    def __repr__(self):\n",
    "        return f\"Car('{self.make}', '{self.model}', {self.year})\""
   ]
  },
  {
   "cell_type": "markdown",
   "metadata": {},
   "source": [
    "#### Car continued - Another string read (`__str__`)\n",
    "Add another class method so that the other string representation of an object reads"
   ]
  },
  {
   "cell_type": "markdown",
   "metadata": {},
   "source": [
    "Such that:\n",
    "\n",
    "    >>> car = Car('Volvo', 'Amazon', 1964)\n",
    "    >>> str(car)\n",
    "    'Volvo Amazon (1964)'\n",
    "\n",
    "Solution:"
   ]
  },
  {
   "cell_type": "code",
   "execution_count": null,
   "metadata": {},
   "outputs": [],
   "source": [
    "class Car:\n",
    "    def __init__(self, make, model, year):\n",
    "        self.make = make\n",
    "        self.model = model\n",
    "        self.year = year\n",
    "    \n",
    "    def __repr__(self):\n",
    "        return f\"{self.__class__.__name__}('{self.make}', '{self.model}', {self.year})\"\n",
    "        \n",
    "    def __str__(self):\n",
    "        return f\"{self.make} {self.model} ({self.year})\""
   ]
  },
  {
   "cell_type": "markdown",
   "metadata": {},
   "source": [
    "#### Car continued - Generating list by reading a csv file\n",
    "\n",
    "Outline code that generate a list of Car objects by reading the a file `cars.csv` containing ..."
   ]
  },
  {
   "cell_type": "markdown",
   "metadata": {},
   "source": [
    "Dodge,Charger,1969 <br>\n",
    "GMC,Vandura G2500,1995 <br>\n",
    "Toyota,Sienna,2007 <br>\n",
    "Dodge,Challenger,2012 <br>\n",
    "Pontiac,Grand Am,1989 <br>\n",
    "Nissan,Altima,2009 <br>\n",
    "Mazda,MPV,2002 <br>\n",
    "Cadillac,DeVille,1994 <br>\n",
    "Mercury,Tracer,1999 <br>\n",
    "Volkswagen,Passat,1988 <br>"
   ]
  },
  {
   "cell_type": "markdown",
   "metadata": {},
   "source": [
    "Such that:\n",
    "\n",
    "    >>> cars\n",
    "    [Car('Dodge', 'Charger', 1969), Car('GMC', 'Vandura G2500', 1995), Car('Toyota', 'Sienna', 2007), Car('Dodge', 'Challenger', 2012), Car(...) ...]\n",
    "\n",
    "Solution:"
   ]
  },
  {
   "cell_type": "code",
   "execution_count": null,
   "metadata": {},
   "outputs": [],
   "source": [
    "def carlist(filename):\n",
    "    for line in open(filename):\n",
    "        make, model, year = line.strip().split(',')\n",
    "        car = Car(make, model, year)\n",
    "        cars.append(car)\n",
    "\n",
    "filename = 'cars.csv'"
   ]
  },
  {
   "cell_type": "markdown",
   "metadata": {},
   "source": [
    "#### Car continued - Sorting\n",
    "\n",
    "Sort the cars by year from newest to oldest."
   ]
  },
  {
   "cell_type": "markdown",
   "metadata": {},
   "source": [
    "The `sorted` function has the documentation\n",
    "\n",
    "`sorted(iterable, /, *, key=None, reverse=False)\n",
    "Return a new list containing all items from the iterable in ascending order.`\n",
    "\n",
    "`A custom key function can be supplied to customize the sort order, and the\n",
    "reverse flag can be set to request the result in descending order.`\n",
    "\n",
    "How can you use this to sort the cars by year from newest to oldest such that:\n",
    "\n",
    "    >>> sorted(cars, key=get_year, reverse=True)\n",
    "    [Car('Dodge', 'Challenger', 2012), Car('Nissan', 'Altima', 2009), Car('Toyota', 'Sienna', 2007), Car('Mazda', 'MPV', 2002), Car('...), ...]"
   ]
  },
  {
   "cell_type": "code",
   "execution_count": null,
   "metadata": {},
   "outputs": [],
   "source": [
    "def get_year(car):\n",
    "    return car.year"
   ]
  },
  {
   "cell_type": "markdown",
   "metadata": {},
   "source": [
    "#### Car continued - Inherit class\n",
    "\n",
    "Define a new class that inherits from Car with an initial price zero"
   ]
  },
  {
   "cell_type": "markdown",
   "metadata": {},
   "source": [
    "A car salesman wants to use your code but update to have a price attribute. Define a new class that inherits from Car with an initial price zero, such that:\n",
    "\n",
    "    >>> car = Car4Sale('Volvo', 'Amazon', 1964)\n",
    "    >>> car.price\n",
    "    0\n",
    "\n",
    "    >>> car = Car4Sale('Volvo', 'Amazon', 1964, 9900)\n",
    "    >>> car.price\n",
    "    9900\n",
    "\n",
    "Solution:"
   ]
  },
  {
   "cell_type": "code",
   "execution_count": null,
   "metadata": {},
   "outputs": [],
   "source": [
    "class Car4Sale(Car):\n",
    "    def __init__(self, make, model, year, price=0):\n",
    "        super().__init__(make, model, year)\n",
    "        self.price = price"
   ]
  },
  {
   "cell_type": "markdown",
   "metadata": {},
   "source": [
    "#### Car continued - Calculate total price\n",
    "Write the function to calculate the total price for a list of cars"
   ]
  },
  {
   "cell_type": "markdown",
   "metadata": {},
   "source": [
    "Such that:\n",
    "\n",
    "    >>> sum_values([])\n",
    "    0\n",
    "    >>> sum_values([\n",
    "    ... Car4Sale('Chevrolet' ,'Silverado 3500',2003,34452),\n",
    "    ... Car4Sale('Mazda', 626, 1991, 17121),\n",
    "    ... Car4Sale('Oldsmobile', 'Achieva', 1993, 12982),\n",
    "    ... ])\n",
    "    64555\n",
    "\n",
    "Solution:"
   ]
  },
  {
   "cell_type": "code",
   "execution_count": null,
   "metadata": {},
   "outputs": [],
   "source": [
    "def sum_values(cars):\n",
    "    return sum(car.price for car in cars)"
   ]
  },
  {
   "cell_type": "markdown",
   "metadata": {},
   "source": [
    "#### Car continued - Composition\n",
    "\n",
    "When it comes to extending a class an alternative to inheritance is so called composition..."
   ]
  },
  {
   "cell_type": "markdown",
   "metadata": {},
   "source": [
    "When it comes to extending a class an alternative to inheritance is so called composition, which means in this case that a car and its price are\n",
    "separate data attributes of a new class:\n",
    "\n",
    "    >>> class CarWithPrice:\n",
    "    ... def __init__(self, car, price=0):\n",
    "    ... self.car = car\n",
    "    ... self.price = price\n",
    "    ...\n",
    "    ... def __str__(self):\n",
    "    ... return f\"{self.car}: {self.price}\"\n",
    "    >>> car = Car('Mercury', 'Sable', 1988)\n",
    "    >>> car_price = CarWithPrice(car, 7000)\n",
    "    \n",
    "What will be the output of `print(car_price)`?\n",
    "\n",
    "Solution:"
   ]
  },
  {
   "cell_type": "markdown",
   "metadata": {},
   "source": [
    "    >>> print(car_price)\n",
    "    Mercury Sable (1988): 7000"
   ]
  },
  {
   "cell_type": "markdown",
   "metadata": {},
   "source": [
    "### What is the name of the ``class method`` where instance variables are defined?"
   ]
  },
  {
   "cell_type": "markdown",
   "metadata": {},
   "source": [
    "In a class defintion it is:\n",
    "\n",
    "`__init__`"
   ]
  },
  {
   "cell_type": "markdown",
   "metadata": {},
   "source": [
    "### Calling a ``class`` in multiple ways"
   ]
  },
  {
   "cell_type": "markdown",
   "metadata": {},
   "source": [
    "A class Foo containing the following definition of hi could potentially be\n",
    "called the following way.\n",
    "\n",
    "    >>> class Foo:\n",
    "    ... def hi(self):\n",
    "    ... print(’hi’)\n",
    "    >>> foo = Foo()\n",
    "    >>> Foo.hi(foo)\n",
    "    hi\n",
    "\n",
    "What does a normal class method call look like in this case?"
   ]
  },
  {
   "cell_type": "markdown",
   "metadata": {},
   "source": [
    "Answer:\n",
    "\n",
    "    >>> foo.hi()\n",
    "    hi"
   ]
  }
 ],
 "metadata": {
  "kernelspec": {
   "display_name": "Python 3 (ipykernel)",
   "language": "python",
   "name": "python3"
  },
  "language_info": {
   "codemirror_mode": {
    "name": "ipython",
    "version": 3
   },
   "file_extension": ".py",
   "mimetype": "text/x-python",
   "name": "python",
   "nbconvert_exporter": "python",
   "pygments_lexer": "ipython3",
   "version": "3.9.7"
  }
 },
 "nbformat": 4,
 "nbformat_minor": 2
}
