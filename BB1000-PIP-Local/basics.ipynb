{
 "cells": [
  {
   "cell_type": "markdown",
   "metadata": {},
   "source": [
    "Before you turn this problem in, make sure everything runs as expected. First, **restart the kernel** (in the menubar, select Kernel$\\rightarrow$Restart) and then **run all cells** (in the menubar, select Cell$\\rightarrow$Run All)."
   ]
  },
  {
   "cell_type": "markdown",
   "metadata": {},
   "source": [
    "---"
   ]
  },
  {
   "cell_type": "markdown",
   "metadata": {},
   "source": [
    "# Basic Python syntax\n"
   ]
  },
  {
   "cell_type": "markdown",
   "metadata": {
    "deletable": false,
    "editable": false,
    "nbgrader": {
     "cell_type": "markdown",
     "checksum": "e85f0c544c5fd752b49cb220ce12171a",
     "grade": false,
     "grade_id": "cell-d841305055b00f7f",
     "locked": true,
     "schema_version": 3,
     "solution": false
    }
   },
   "source": [
    "## Exercise 1\n",
    "Write a function 'mymax' that accepts two numbers as parameters and that prints the larger number to the screen. For this elementary exercise, do not use the built-in function 'max()' - just revert to elementary expressions and statements."
   ]
  },
  {
   "cell_type": "code",
   "execution_count": null,
   "metadata": {
    "deletable": false,
    "nbgrader": {
     "cell_type": "code",
     "checksum": "fd749f2f8a51fd6c0bd8e1f96670ebbc",
     "grade": false,
     "grade_id": "cell-ee8c56c7cc588b03",
     "locked": false,
     "schema_version": 3,
     "solution": true
    }
   },
   "outputs": [],
   "source": [
    "def mymax(x, y):\n",
    "    \"\"\"\n",
    "    Returns the maximum of x and y\n",
    "    \"\"\"\n",
    "    if x > y:\n",
    "        return(x)\n",
    "    elif y > x:\n",
    "        return(y)\n",
    "    else:\n",
    "        return(x)\n",
    "        print('x = y')\n",
    "\n",
    "#raise NotImplementedError()"
   ]
  },
  {
   "cell_type": "code",
   "execution_count": null,
   "metadata": {
    "deletable": false,
    "editable": false,
    "nbgrader": {
     "cell_type": "code",
     "checksum": "ede23a71ffe72a41f63b5c06c0fd2258",
     "grade": true,
     "grade_id": "cell-304328f9c7d4c051",
     "locked": true,
     "points": 1,
     "schema_version": 3,
     "solution": false
    }
   },
   "outputs": [],
   "source": [
    "assert mymax(2, 6) == 6, f'mymax(2, 6) -> {mymax(2, 6)} != 6'\n",
    "assert mymax(5, 3) == 5, f'mymax(5, 3) -> {mymax(5, 3)} != 5'"
   ]
  },
  {
   "cell_type": "markdown",
   "metadata": {
    "deletable": false,
    "editable": false,
    "nbgrader": {
     "cell_type": "markdown",
     "checksum": "356c501530a1994ab3be98021618f8b4",
     "grade": false,
     "grade_id": "cell-7e57cd736d5abc19",
     "locked": true,
     "schema_version": 3,
     "solution": false
    }
   },
   "source": [
    "## Exercise 2\n",
    "\n",
    "Write a function to sum the elements of a sequence with a for loop. You can assume that it consists of numeric values."
   ]
  },
  {
   "cell_type": "code",
   "execution_count": null,
   "metadata": {
    "deletable": false,
    "nbgrader": {
     "cell_type": "code",
     "checksum": "e8e60efbb1286c7773d4b858014928d1",
     "grade": false,
     "grade_id": "cell-b607688727ab57f1",
     "locked": false,
     "schema_version": 3,
     "solution": true
    }
   },
   "outputs": [],
   "source": [
    "def mysum(sequence):\n",
    "    \"\"\"\n",
    "    Returns the sum of the elements in sequence\n",
    "    \"\"\"\n",
    "    s = 0\n",
    "    for x in sequence:\n",
    "        s += x\n",
    "    \n",
    "    return s\n",
    "\n",
    "#raise NotImplementedError()"
   ]
  },
  {
   "cell_type": "code",
   "execution_count": null,
   "metadata": {
    "deletable": false,
    "editable": false,
    "nbgrader": {
     "cell_type": "code",
     "checksum": "31ffc9668cca29c452d83ebc57871139",
     "grade": true,
     "grade_id": "cell-24ac435261756312",
     "locked": true,
     "points": 1,
     "schema_version": 3,
     "solution": false
    }
   },
   "outputs": [],
   "source": [
    "assert mysum([1, 2]) == 3, f'mysum([1, 2]) -> {mysum([1, 2])} != 3'\n",
    "assert mysum((1, 1/2, 1/4)) == 1.75, f'mysum((1, 1/2, 1/4)) -> {mysum((1, 1/2, 1/4))} != 1.75'"
   ]
  },
  {
   "cell_type": "markdown",
   "metadata": {
    "deletable": false,
    "editable": false,
    "nbgrader": {
     "cell_type": "markdown",
     "checksum": "ce4e1a6901bb8d84db1d25684780b051",
     "grade": false,
     "grade_id": "cell-0fcb64dce5cad45f",
     "locked": true,
     "schema_version": 3,
     "solution": false
    }
   },
   "source": [
    "## Exercise 3\n",
    "\n",
    "Variables of `str` type has a method `join` defined"
   ]
  },
  {
   "cell_type": "markdown",
   "metadata": {},
   "source": [
    "Variables of `str` type has a method `join` defined such that when a sequence (e.g. `list`, `tuple`) of strings is given as an argument, they are concatenated to a single string with the variable as a separator. E.g.\n",
    "\n",
    "    >>> separator = '-'\n",
    "    >>> separator.join(['father', 'in', 'law'])\n",
    "    'father-in-law'\n",
    "\n",
    "Use the `join` to generate a histogram with stars such that \n",
    "\n",
    "    histogram([3, 4, 1]) \n",
    "    \n",
    "returns\n",
    "\n",
    "    ***\n",
    "    ****\n",
    "    *"
   ]
  },
  {
   "cell_type": "code",
   "execution_count": null,
   "metadata": {
    "deletable": false,
    "nbgrader": {
     "cell_type": "code",
     "checksum": "f05b54eac0774ab485601e3147718039",
     "grade": false,
     "grade_id": "cell-631ae09a389a66d4",
     "locked": false,
     "schema_version": 3,
     "solution": true
    }
   },
   "outputs": [],
   "source": [
    "def histogram(sequence):\n",
    "    \"\"\"\n",
    "    Returns histogram in the form of characters\n",
    "    >>> histogram([3, 4, 1])\n",
    "    ***\n",
    "    ****\n",
    "    *\n",
    "    \"\"\"\n",
    "\n",
    "    histo = []\n",
    "    separator1 = \"\"\n",
    "    separator2 = \"\\n\"\n",
    "    for x in sequence:\n",
    "        hist = []\n",
    "        for i in range(x):\n",
    "            hist.append(\"*\")\n",
    "\n",
    "        histo.append(separator1.join(hist))\n",
    "    return separator2.join(histo)\n",
    "            \n",
    "#raise NotImplementedError()\n",
    "    \n",
    "\n",
    "print(f'Example: the histogram of [3, 4, 1] is \\n{histogram([3, 4, 1])}')"
   ]
  },
  {
   "cell_type": "code",
   "execution_count": null,
   "metadata": {
    "deletable": false,
    "editable": false,
    "nbgrader": {
     "cell_type": "code",
     "checksum": "d5be35305459bbbe704eab09b1d0f57b",
     "grade": true,
     "grade_id": "cell-901ea19debe3ee4c",
     "locked": true,
     "points": 1,
     "schema_version": 3,
     "solution": false
    }
   },
   "outputs": [],
   "source": [
    "assert histogram([]) == \"\", f'\"{histogram([])}\" != \"\" '\n",
    "assert histogram([1, 2]) == \"*\\n**\", f'\"{histogram([1, 2])}\" != \\n\"*\\n**\"'\n",
    "assert histogram([1, 2, 3]) == \"*\\n**\\n***\", f'\"{histogram([1, 2, 3])}\" != \\n \"*\\n**\\n***\"'"
   ]
  },
  {
   "cell_type": "markdown",
   "metadata": {
    "deletable": false,
    "editable": false,
    "nbgrader": {
     "cell_type": "markdown",
     "checksum": "9ac20f3e33cc51d8873efe3aaf431360",
     "grade": false,
     "grade_id": "cell-191cda8f80a291fe",
     "locked": true,
     "schema_version": 3,
     "solution": false
    }
   },
   "source": [
    "## Exercise 4\n",
    "\n",
    "Compute how many times a character is present in a string. Use a dictionary to represent the string. "
   ]
  },
  {
   "cell_type": "code",
   "execution_count": null,
   "metadata": {
    "deletable": false,
    "nbgrader": {
     "cell_type": "code",
     "checksum": "d37b6f12c8ec9d6fb595979b794e8e74",
     "grade": false,
     "grade_id": "cell-94b1ecc182583f9b",
     "locked": false,
     "schema_version": 3,
     "solution": true
    }
   },
   "outputs": [],
   "source": [
    "def character_count(text):\n",
    "    \"\"\"\n",
    "    Returns character count of text\n",
    "    Input: text of type str\n",
    "    Output: dict that maps a character to a number count\n",
    "    \"\"\"\n",
    "    d = {}\n",
    "    for i in text:\n",
    "        c = text.count(i)\n",
    "        d[i] = c\n",
    "    return(d)\n",
    "    #raise NotImplementedError()\n",
    "\n",
    "print(f\"Example: Character count of 'ABBA': {character_count('ABBA')}\")"
   ]
  },
  {
   "cell_type": "code",
   "execution_count": null,
   "metadata": {
    "deletable": false,
    "editable": false,
    "nbgrader": {
     "cell_type": "code",
     "checksum": "f4b93d750c28b8f37e4c41970e831022",
     "grade": true,
     "grade_id": "cell-2a787760db753909",
     "locked": true,
     "points": 1,
     "schema_version": 3,
     "solution": false
    }
   },
   "outputs": [],
   "source": [
    "calculated = character_count(\"ABBA\")\n",
    "expected = {\"A\": 2, \"B\": 2}\n",
    "assert calculated == expected, f'{calculated} != {expected}'\n",
    "\n",
    "calculated = character_count(\"CCGGAAGAGCTTACTTAG\")\n",
    "expected = {\"A\": 5, \"C\": 4, \"G\": 5, \"T\": 4}\n",
    "assert calculated == expected, f'{calculated} != {expected}'"
   ]
  },
  {
   "cell_type": "markdown",
   "metadata": {
    "deletable": false,
    "editable": false,
    "nbgrader": {
     "cell_type": "markdown",
     "checksum": "8bf8dfb6fdd1febab23a4d66b19d6777",
     "grade": false,
     "grade_id": "cell-e61ece745b1ea220",
     "locked": true,
     "schema_version": 3,
     "solution": false
    }
   },
   "source": [
    "## Exercise 5\n",
    "\n",
    "A simple encryption scheme known as Caesarian roll"
   ]
  },
  {
   "cell_type": "markdown",
   "metadata": {},
   "source": [
    "A simple encryption scheme known as Caesarian roll, is obtained by shifting characters a fixed amount. In Python we can obtain the order of a character with the `ord` function\n",
    "\n",
    "    >>> ord('A')\n",
    "    65\n",
    "    \n",
    "and there reverse operation\n",
    "\n",
    "    >>> chr(65)\n",
    "    'A' \n",
    "    \n",
    "Use this in a function that takes a string and returns the encrypted representation"
   ]
  },
  {
   "cell_type": "code",
   "execution_count": null,
   "metadata": {
    "deletable": false,
    "nbgrader": {
     "cell_type": "code",
     "checksum": "d8014ed5a76f0220d665f79d07ae530c",
     "grade": false,
     "grade_id": "cell-95b86ffef93462ec",
     "locked": false,
     "schema_version": 3,
     "solution": true
    }
   },
   "outputs": [],
   "source": [
    "def caesar_shift(text, n):\n",
    "    \"\"\"\n",
    "    Returns an encrypted string by shifting input characters by n\n",
    "    \"\"\"\n",
    "    t = []\n",
    "    sep = \"\"\n",
    "    for i in text:\n",
    "        o = ord(i)\n",
    "        o_new = chr(o + n)\n",
    "        t.append(o_new)\n",
    "    t = sep.join(t)\n",
    "    return(t)\n",
    "    \n",
    "    #raise NotImplementedError()\n",
    "\n",
    "print(f\"Example: Caesarian roll of 'ABBA' and shift = 2: {caesar_shift('ABBA',2)}\")"
   ]
  },
  {
   "cell_type": "code",
   "execution_count": null,
   "metadata": {
    "deletable": false,
    "editable": false,
    "nbgrader": {
     "cell_type": "code",
     "checksum": "e35e0716e02c0365c8e58fac45a5d8db",
     "grade": true,
     "grade_id": "cell-4403018cd26de943",
     "locked": true,
     "points": 1,
     "schema_version": 3,
     "solution": false
    }
   },
   "outputs": [],
   "source": [
    "assert caesar_shift('a', 0) == 'a'\n",
    "assert caesar_shift('ABBA', 2) == 'CDDC'\n",
    "assert caesar_shift('CDDC', -2) == 'ABBA'"
   ]
  },
  {
   "cell_type": "markdown",
   "metadata": {
    "deletable": false,
    "editable": false,
    "nbgrader": {
     "cell_type": "markdown",
     "checksum": "326a8e0ab493076c9f2cb3df32a7fb4a",
     "grade": false,
     "grade_id": "cell-441f570debcc3b92",
     "locked": true,
     "schema_version": 3,
     "solution": false
    }
   },
   "source": [
    "Optional:\n",
    "\n",
    "Historically, this encryption allegedly used  by the Roman Emperor Caesar (thereby the name). Eventually the encryption was crackedby realizing that some characters are more common than other in a given language. Use the functions defined in previous exercises to\n",
    "\n",
    "* identify the most common character in the crypto text\n",
    "* in the text the second common character is 'e' - what is the shift?\n",
    "* decrypt the crypto_text with `caesar_shift` using a negative shift"
   ]
  },
  {
   "cell_type": "code",
   "execution_count": null,
   "metadata": {
    "deletable": false,
    "editable": false,
    "nbgrader": {
     "cell_type": "code",
     "checksum": "ad1d6ab767ddaff190b02a578d7b33c0",
     "grade": false,
     "grade_id": "cell-d304778231e8e8a9",
     "locked": true,
     "schema_version": 3,
     "solution": false
    }
   },
   "outputs": [],
   "source": [
    "crypto_text = \"{v'il3'vy'uv{'{v'ilA'{oh{'pz'{ol'x|lz{pvuA\\x11~ol{oly'.{pz'uvisly'pu'{ol'tpuk'{v'z|mmly\\x11{ol'zspunz'huk'hyyv~z'vm'v|{yhnlv|z'mvy{|ul3\\x11vy'{v'{hrl'hytz'hnhpuz{'h'zlh'vm'{yv|islz3\\x11huk'i\\x80'vwwvzpun'luk'{oltF'{v'kplA'{v'zsllwB\\x11uv'tvylB'huk'i\\x80'h'zsllw'{v'zh\\x80'~l'luk\\x11{ol'olhy{4hjol'huk'{ol'{ov|zhuk'uh{|yhs'zovjrz\\x11{oh{'mslzo'pz'olpy'{v3'.{pz'h'jvuz|tth{pvu\\x11kl}v|{s\\x80'{v'il'~pzo.k5'{v'kpl3'{v'zsllwB\\x11{v'zsllwA'wlyjohujl'{v'kylhtA'h\\x803'{olyl.z'{ol'y|iB\\x11mvy'pu'{oh{'zsllw'vm'klh{o'~oh{'kylhtz'th\\x80'jvtl\\x11~olu'~l'oh}l'zo|mmslk'vmm'{opz'tvy{hs'jvps3\\x11t|z{'np}l'|z'wh|zlA'{olyl.z'{ol'ylzwlj{\\x11{oh{'thrlz'jhshtp{\\x80'vm'zv'svun'spmlB\\x11mvy'~ov'~v|sk'ilhy'{ol'~opwz'huk'zjvyuz'vm'{ptl3\\x11{ol'vwwylzzvy.z'~yvun3'{ol'wyv|k'thu.z'jvu{|tls\\x803\\x11{ol'whunz'vm'klzwpzlk'sv}l3'{ol'sh~.z'klsh\\x803\\x11{ol'puzvslujl'vm'vmmpjl'huk'{ol'zw|yuz\\x11{oh{'wh{plu{'tlyp{'vm'{ol'|u~vy{o\\x80'{hrlz3\\x11~olu'ol'optzlsm'tpno{'opz'x|pl{|z'thrl\\x11~p{o'h'ihyl'ivkrpuF'~ov'~v|sk'mhyklsz'ilhy3\\x11{v'ny|u{'huk'z~lh{'|ukly'h'~lhy\\x80'spml3\\x11i|{'{oh{'{ol'kylhk'vm'zvtl{opun'hm{ly'klh{o3\\x11{ol'|ukpzjv}ly.k'jv|u{y\\x80'myvt'~ovzl'iv|yu\\x11uv'{yh}lssly'yl{|yuz3'w|\\x81\\x81slz'{ol'~pss\\x11huk'thrlz'|z'yh{oly'ilhy'{ovzl'pssz'~l'oh}l\\x11{ohu'ms\\x80'{v'v{olyz'{oh{'~l'ruv~'uv{'vmF\\x11{o|z'jvuzjplujl'kvlz'thrl'jv~hykz'vm'|z'hssB\\x11huk'{o|z'{ol'uh{p}l'o|l'vm'ylzvs|{pvu\\x11pz'zpjrsplk'v.ly'~p{o'{ol'whsl'jhz{'vm'{ov|no{3\\x11huk'lu{lywypzlz'vm'nylh{'wp{o'huk'tvtlu{\\x11~p{o'{opz'ylnhyk'{olpy'j|yylu{z'{|yu'h~y\\x803\\x11huk'svzl'{ol'uhtl'vm'hj{pvu5\\x11\""
   ]
  },
  {
   "cell_type": "code",
   "execution_count": null,
   "metadata": {
    "deletable": false,
    "nbgrader": {
     "cell_type": "code",
     "checksum": "de6e4b97a1d03edfdc11386840155ac4",
     "grade": true,
     "grade_id": "cell-440cb014209f1873",
     "locked": false,
     "points": 0,
     "schema_version": 3,
     "solution": true
    }
   },
   "outputs": [],
   "source": [
    "crypto_text = \"{v'il3'vy'uv{'{v'ilA'{oh{'pz'{ol'x|lz{pvuA\\x11~ol{oly'.{pz'uvisly'pu'{ol'tpuk'{v'z|mmly\\x11{ol'zspunz'huk'hyyv~z'vm'v|{yhnlv|z'mvy{|ul3\\x11vy'{v'{hrl'hytz'hnhpuz{'h'zlh'vm'{yv|islz3\\x11huk'i\\x80'vwwvzpun'luk'{oltF'{v'kplA'{v'zsllwB\\x11uv'tvylB'huk'i\\x80'h'zsllw'{v'zh\\x80'~l'luk\\x11{ol'olhy{4hjol'huk'{ol'{ov|zhuk'uh{|yhs'zovjrz\\x11{oh{'mslzo'pz'olpy'{v3'.{pz'h'jvuz|tth{pvu\\x11kl}v|{s\\x80'{v'il'~pzo.k5'{v'kpl3'{v'zsllwB\\x11{v'zsllwA'wlyjohujl'{v'kylhtA'h\\x803'{olyl.z'{ol'y|iB\\x11mvy'pu'{oh{'zsllw'vm'klh{o'~oh{'kylhtz'th\\x80'jvtl\\x11~olu'~l'oh}l'zo|mmslk'vmm'{opz'tvy{hs'jvps3\\x11t|z{'np}l'|z'wh|zlA'{olyl.z'{ol'ylzwlj{\\x11{oh{'thrlz'jhshtp{\\x80'vm'zv'svun'spmlB\\x11mvy'~ov'~v|sk'ilhy'{ol'~opwz'huk'zjvyuz'vm'{ptl3\\x11{ol'vwwylzzvy.z'~yvun3'{ol'wyv|k'thu.z'jvu{|tls\\x803\\x11{ol'whunz'vm'klzwpzlk'sv}l3'{ol'sh~.z'klsh\\x803\\x11{ol'puzvslujl'vm'vmmpjl'huk'{ol'zw|yuz\\x11{oh{'wh{plu{'tlyp{'vm'{ol'|u~vy{o\\x80'{hrlz3\\x11~olu'ol'optzlsm'tpno{'opz'x|pl{|z'thrl\\x11~p{o'h'ihyl'ivkrpuF'~ov'~v|sk'mhyklsz'ilhy3\\x11{v'ny|u{'huk'z~lh{'|ukly'h'~lhy\\x80'spml3\\x11i|{'{oh{'{ol'kylhk'vm'zvtl{opun'hm{ly'klh{o3\\x11{ol'|ukpzjv}ly.k'jv|u{y\\x80'myvt'~ovzl'iv|yu\\x11uv'{yh}lssly'yl{|yuz3'w|\\x81\\x81slz'{ol'~pss\\x11huk'thrlz'|z'yh{oly'ilhy'{ovzl'pssz'~l'oh}l\\x11{ohu'ms\\x80'{v'v{olyz'{oh{'~l'ruv~'uv{'vmF\\x11{o|z'jvuzjplujl'kvlz'thrl'jv~hykz'vm'|z'hssB\\x11huk'{o|z'{ol'uh{p}l'o|l'vm'ylzvs|{pvu\\x11pz'zpjrsplk'v.ly'~p{o'{ol'whsl'jhz{'vm'{ov|no{3\\x11huk'lu{lywypzlz'vm'nylh{'wp{o'huk'tvtlu{\\x11~p{o'{opz'ylnhyk'{olpy'j|yylu{z'{|yu'h~y\\x803\\x11huk'svzl'{ol'uhtl'vm'hj{pvu5\\x11\"\n",
    "#print(\"Crypto text:\\n\", crypto_text)\n",
    "\n",
    "# CREATING DICTIONARY AND SORTED DICTIONARY OF CRYPTO TEXT\n",
    "def character_count(text):\n",
    "    d = {}\n",
    "    for i in text:\n",
    "        c = text.count(i)\n",
    "        d[i] = c\n",
    "    dsort = sorted(d.items(), key=lambda x: x[1], reverse=True)\n",
    "    return(d,dsort)\n",
    "\n",
    "# FINDING CAESARIAN SHIFT\n",
    "def find_shift(dsort):\n",
    "    seckey = ord(dsort[1][0])\n",
    "    e_ord = ord(\"e\")\n",
    "    shift = e_ord - seckey\n",
    "    return(shift)\n",
    "\n",
    "# FINDING MOST COMMON CHARACTER IN DECRYPTED TEXT\n",
    "def find_common(dsort):\n",
    "    comkey = ord(dsort[0][0])\n",
    "    comkeyshift = chr(comkey + roll)\n",
    "    return(comkeyshift)\n",
    "\n",
    "# DECRYPTING TEXT\n",
    "def caesar_shift(crypto_text,roll):\n",
    "    decrypt = []\n",
    "    for i in crypto_text:\n",
    "        o = chr(ord(i) + roll)\n",
    "        decrypt.append(o)\n",
    "    decrypt = \"\".join(decrypt)\n",
    "    return decrypt\n",
    "\n",
    "# GENERATING OUTPUT\n",
    "d_out, dsort_out = character_count(crypto_text)\n",
    "roll = find_shift(dsort_out)\n",
    "com_char = find_common(dsort_out)\n",
    "\n",
    "print(f\"Dictionary: {character_count(crypto_text)[0]} \\n\")\n",
    "print(f\"Sorted list: {character_count(crypto_text)[1]} \\n\")\n",
    "print(f\"Shift: '{find_shift(dsort_out)}' \\n\")\n",
    "print(f\"Most common character: '{find_common(dsort_out)}' \\n\")\n",
    "\n",
    "print(\"\\nClear text:\\n\", caesar_shift(crypto_text, roll))\n"
   ]
  },
  {
   "cell_type": "markdown",
   "metadata": {},
   "source": [
    "# PAST EXAM QUESTIONS:"
   ]
  },
  {
   "cell_type": "markdown",
   "metadata": {},
   "source": [
    "### Write a function definition that (input = none, list, zero, etc)"
   ]
  },
  {
   "cell_type": "markdown",
   "metadata": {},
   "source": [
    "- takes one optional parameter with default value None\n",
    "- with no parameter it returns -999\n",
    "- the parameter can be assumed to be a sequence-like type (e.g. list, tuple)\n",
    "- the function returns the sum of the parameter elements if provided\n",
    "- an empty sequence gives zero"
   ]
  },
  {
   "cell_type": "code",
   "execution_count": null,
   "metadata": {},
   "outputs": [],
   "source": [
    "def sum_elements(seq=None):\n",
    "    if seq is None:\n",
    "        return -999\n",
    "    else:\n",
    "        return sum(seq)"
   ]
  },
  {
   "cell_type": "markdown",
   "metadata": {},
   "source": [
    "Such that:\n",
    "\n",
    "    >>> sum_elements() = -999\n",
    "    >>> sum_elements([]) = 0\n",
    "    >>> sum_elements((1, 2)) = 3\n",
    "    >>> sum_elements(range(4)) = 6"
   ]
  },
  {
   "cell_type": "markdown",
   "metadata": {},
   "source": [
    "### Loop over a dictionary"
   ]
  },
  {
   "cell_type": "markdown",
   "metadata": {},
   "source": [
    "List a way of looping over a dictionary (there are a few) so that e.g.{ \"a\": 1, \"b\": 2, \"c\": 3} is displayed on the screen as\n",
    "\n",
    "    >>> a->1\n",
    "    >>> b->2\n",
    "    >>> c->3"
   ]
  },
  {
   "cell_type": "code",
   "execution_count": null,
   "metadata": {},
   "outputs": [],
   "source": [
    "dictex = {\"a\": 1, \"b\": 2, \"c\": 3}\n",
    "\n",
    "def dictloop(d):\n",
    "    for k, v in d.items():\n",
    "        print(f\"{k}->{v}\")\n",
    "\n",
    "dictloop(dictex)"
   ]
  },
  {
   "cell_type": "markdown",
   "metadata": {},
   "source": [
    "### Creating dictionary with gender as key and full names as values"
   ]
  },
  {
   "cell_type": "markdown",
   "metadata": {},
   "source": [
    "A function takes a CSV-string with name/gender data as input and returns a dictionary with gender as key and a list of full names as value.\n",
    "e.g. with\n",
    "\n",
    "    >>> sample_data = \"\"\"first_name,last_name,gender\n",
    "    ... Quintina,Firle,F\n",
    "    ... Jesse,Nunson,M\n",
    "    ... Lena,Stockley,F\n",
    "    ... Margaux,Sirr,F\n",
    "    ... Taylor,Alishoner,M\"\"\"\n",
    "\n",
    "Reorder and indent correctly the source lines:\n",
    "\n",
    "    >>> names = {\"F\": [], \"M\": []}\n",
    "    ... return names\n",
    "\n",
    "And then\n",
    "\n",
    "    >>> def group_by_gender(data):\n",
    "    ... first, last, gender = line.split(\",\")\n",
    "    ... lines = data.split(\"\\n\")\n",
    "    ... names[gender].append(f\"{first} {last}\")\n",
    "    ... for line in lines[1:]:"
   ]
  },
  {
   "cell_type": "code",
   "execution_count": null,
   "metadata": {},
   "outputs": [],
   "source": [
    "def group_by_gender(data):\n",
    "    names = {\"F\": [], \"M\": []}\n",
    "    lines = data.split(\"\\n\")\n",
    "    for line in lines[1:]:\n",
    "        first, last, gender = line.split(\",\")\n",
    "        names[gender].append(f\"{first} {last}\")\n",
    "    return names"
   ]
  },
  {
   "cell_type": "markdown",
   "metadata": {},
   "source": [
    "Such that:\n",
    "\n",
    "    >>> group_by_gender(sample_data)\n",
    "    \n",
    "    ... {'F': ['Quintina Firle', 'Lena Stockley', 'Margaux Sirr'], 'M': ['Jesse Nunson', 'Taylor Alishoner']}"
   ]
  },
  {
   "cell_type": "markdown",
   "metadata": {},
   "source": [
    "### Split and Join"
   ]
  },
  {
   "cell_type": "markdown",
   "metadata": {},
   "source": [
    "A single line with split and join can split a multiline string\n",
    "\n",
    "    >>> text = \"\"\"one <br>\n",
    "    ... two <br>\n",
    "    ... three\"\"\"\n",
    "\n",
    "into\n",
    "\n",
    "    >>> 'one|two|three'\n",
    "\n",
    "Write down an instruction with one or more lines that does this"
   ]
  },
  {
   "cell_type": "code",
   "execution_count": null,
   "metadata": {},
   "outputs": [],
   "source": [
    "def join_n_split(text):\n",
    "    text = '|'.join(text.split('\\n'))\n",
    "    return(text)\n",
    "\n",
    "\n",
    "# TEST\n",
    "textex = \"\"\"one\n",
    "two\n",
    "three\"\"\"\n",
    "\n",
    "join_n_split(textex)"
   ]
  },
  {
   "cell_type": "markdown",
   "metadata": {},
   "source": [
    "### String to Tuple"
   ]
  },
  {
   "cell_type": "markdown",
   "metadata": {},
   "source": [
    "Outline a function which takes a string as input and returns a tuple with two objects\n",
    "* a modified string with vowels replaced with a star '*'\n",
    "* the number of replacements\n",
    "\n",
    "such that\n",
    "\n",
    "    >>> strip_vowels('hello world')\n",
    "    ('h*ll* w*rld', 3)"
   ]
  },
  {
   "cell_type": "code",
   "execution_count": null,
   "metadata": {},
   "outputs": [],
   "source": [
    "def strip_vowels(text):\n",
    "    new = []\n",
    "    count = 0\n",
    "    for c in text:\n",
    "        if c.lower() in 'eiyaou':\n",
    "            new.append('*')\n",
    "            count += 1\n",
    "        else:\n",
    "            new.append(c)\n",
    "    modified = ''.join(new)\n",
    "    return (modified, count)"
   ]
  },
  {
   "cell_type": "markdown",
   "metadata": {},
   "source": [
    "### Role of binary operators \"//\" and \"%\""
   ]
  },
  {
   "cell_type": "markdown",
   "metadata": {},
   "source": [
    "What is the role of the binary operators // and % in Python arithmetics?\n",
    "\n",
    "    >>> Truncated integer division and modulus (remainder)"
   ]
  },
  {
   "cell_type": "markdown",
   "metadata": {},
   "source": [
    "### Calling a Python script from the command line"
   ]
  },
  {
   "cell_type": "markdown",
   "metadata": {},
   "source": [
    "When calling a Python script from the command line\n",
    "\n",
    "    >>> $ python script.py arg1 arg2\n",
    "\n",
    "The arguments are saved in a specific data structure of a specific module What is the type and name of the data structure and which module?\n",
    "\n",
    "\n",
    "__Answer:__\n",
    "\n",
    "    >>> They are colleced in the list \"sys.argv\""
   ]
  },
  {
   "cell_type": "markdown",
   "metadata": {},
   "source": [
    "### An example of an important usage of the variable `__name__`"
   ]
  },
  {
   "cell_type": "markdown",
   "metadata": {},
   "source": [
    "Give an example of an important usage of the variable `__name__` in Python scripts\n",
    "\n",
    "__Answer:__\n",
    "\n",
    "To filter out code that should not run during import of a module, that only runs when the script is the main program\n",
    "\n",
    "    >>> if __name__ == \"__main__\":\n",
    "    ..."
   ]
  },
  {
   "cell_type": "markdown",
   "metadata": {},
   "source": [
    "### Name three built-in numerical data types in Python."
   ]
  },
  {
   "cell_type": "markdown",
   "metadata": {},
   "source": [
    "`int, float, bool, complex`"
   ]
  },
  {
   "cell_type": "markdown",
   "metadata": {},
   "source": [
    "### What is the difference between ``=`` and ``==`` in Python"
   ]
  },
  {
   "cell_type": "markdown",
   "metadata": {},
   "source": [
    "`The first is an assignment operator the second an equality operator`"
   ]
  },
  {
   "cell_type": "markdown",
   "metadata": {},
   "source": [
    "### Main difference between ``list`` and ``tuple``"
   ]
  },
  {
   "cell_type": "markdown",
   "metadata": {},
   "source": [
    "The two most common container types for an ordered sequence of objects are list and tuple. What is the main difference between them.\n",
    "\n",
    "`A list is mutable, a tuple immutable (can not be changed)`"
   ]
  },
  {
   "cell_type": "markdown",
   "metadata": {},
   "source": [
    "### Writing an ``f-string`` which incorporates the value of a variable v into a string"
   ]
  },
  {
   "cell_type": "markdown",
   "metadata": {},
   "source": [
    "    >>> v = 42\n",
    "    >>> text = f\"The value of v is {v}.\" # HIDE\n",
    "    >>> print(text)\n",
    "    The value of v is 42."
   ]
  },
  {
   "cell_type": "markdown",
   "metadata": {},
   "source": [
    "### A ``dictionary`` is a mapping of key-value pairs. Keys have a restriction..."
   ]
  },
  {
   "cell_type": "markdown",
   "metadata": {},
   "source": [
    "Keys have a restriction that makes one of the following statements pass:\n",
    "* key = ()\n",
    "* key = []\n",
    "* key = {}\n",
    "\n",
    "Consider:\n",
    "\n",
    "    >>> d = {}\n",
    "    >>> key = () # HIDE\n",
    "    >>> d[key] = ’somevalue’\n",
    "\n",
    "Which value of key will pass and why?\n",
    "\n",
    "`(), because it is immutable`"
   ]
  },
  {
   "cell_type": "markdown",
   "metadata": {},
   "source": [
    "### Outline a Python function that calculates the ``factorial`` of a non-negative integer `n`"
   ]
  },
  {
   "cell_type": "markdown",
   "metadata": {},
   "source": [
    "The accumulator pattern is a common design pattern using a for-loop for generating a single value from a given sequence of values. \n",
    "\n",
    "Outline a Python function that calculates the factorial of a non-negative integer n, such that:\n",
    "\n",
    "    >>> f(0)\n",
    "    1\n",
    "    >>> f(1)\n",
    "    1\n",
    "    >>> f(4)\n",
    "    24\n",
    "\n",
    "Solution:"
   ]
  },
  {
   "cell_type": "code",
   "execution_count": null,
   "metadata": {},
   "outputs": [],
   "source": [
    "def f(n):\n",
    "    p = 1\n",
    "    for i in range(1, n + 1):\n",
    "        p = p * i\n",
    "    return p"
   ]
  },
  {
   "cell_type": "markdown",
   "metadata": {},
   "source": [
    "### The `id()` function"
   ]
  },
  {
   "cell_type": "markdown",
   "metadata": {},
   "source": [
    "The id function takes an object as input and returns a unique number for\n",
    "that object, its identity, as output. What is the output of the last line,\n",
    "True of False? This question is about the nature of assignment in Python\n",
    "so think carefully.\n",
    "\n",
    "    >>> a = 42\n",
    "    >>> b = 42\n",
    "    >>> id(a) == id(b)\n",
    "\n",
    "__Answer:__\n",
    "\n",
    "    True"
   ]
  },
  {
   "cell_type": "markdown",
   "metadata": {},
   "source": [
    "### Output of the `append` operation"
   ]
  },
  {
   "cell_type": "markdown",
   "metadata": {},
   "source": [
    "    >>> l1 = [1, 2]; l2 = [3, 4]\n",
    "    >>> l1.append(l2)\n",
    "    >>> print(l1)\n",
    "\n",
    "Answer:\n",
    "`[1, 2, [3, 4]]`"
   ]
  },
  {
   "cell_type": "markdown",
   "metadata": {},
   "source": [
    "### Outline a ``function`` that takes arbitrary number of input arguments (positional) and returns a list with arguments in ``reverse order``."
   ]
  },
  {
   "cell_type": "markdown",
   "metadata": {},
   "source": [
    "Such that:\n",
    "\n",
    "    >>> f(1)\n",
    "    [1]\n",
    "    >>> f(1, 2)\n",
    "    [2, 1]\n",
    "\n",
    "Solution:"
   ]
  },
  {
   "cell_type": "code",
   "execution_count": null,
   "metadata": {},
   "outputs": [],
   "source": [
    "def f(*args):\n",
    "    return list(reversed(args))"
   ]
  },
  {
   "cell_type": "markdown",
   "metadata": {},
   "source": []
  },
  {
   "cell_type": "markdown",
   "metadata": {},
   "source": [
    "### General info regarding variables. Which are true..?"
   ]
  },
  {
   "cell_type": "markdown",
   "metadata": {},
   "source": [
    "Literal is a notation specific for a language to represent an object of a given datatype and value.\n",
    "\n",
    "Which of the following are true:\n",
    "\n",
    "- 1 represents an object of type int, an integer with the numerical value one.\n",
    "- 1.0 represents an object of type float, an floating point number with the numerical value one.\n",
    "- \"1.0\" represents an object of type str, a string with three characters\n",
    "- [] represents an object of type list, an empty list\n",
    "- () represents an object of type tuple, an empty tuple\n",
    "- {} represents an object of type dict, an empty dictionary\n",
    "\n",
    "__Answer: all are true__"
   ]
  },
  {
   "cell_type": "markdown",
   "metadata": {},
   "source": [
    "### Reorder to print correct string"
   ]
  },
  {
   "cell_type": "markdown",
   "metadata": {},
   "source": [
    "Reorder the lines (write numbers 1-4 next to the lines) to return the output 'data'\n",
    "\n",
    "    >>> a = 'd'             # 1\n",
    "    >>> a += 'a'-           # 2\n",
    "    >>> d = a + 't' + 'a'   # 3\n",
    "    >>> print(d)            # 4\n",
    "\n",
    "Correct order (1,3,2,4):\n",
    "\n",
    "    >>> a = 'd'             # 1\n",
    "    >>> d = a + 't' + 'a'   # 3\n",
    "    >>> a += 'a'-           # 2\n",
    "    >>> print(d)            # 4\n"
   ]
  }
 ],
 "metadata": {
  "kernelspec": {
   "display_name": "Python 3",
   "language": "python",
   "name": "python3"
  },
  "language_info": {
   "codemirror_mode": {
    "name": "ipython",
    "version": 3
   },
   "file_extension": ".py",
   "mimetype": "text/x-python",
   "name": "python",
   "nbconvert_exporter": "python",
   "pygments_lexer": "ipython3",
   "version": "3.9.7"
  }
 },
 "nbformat": 4,
 "nbformat_minor": 2
}
